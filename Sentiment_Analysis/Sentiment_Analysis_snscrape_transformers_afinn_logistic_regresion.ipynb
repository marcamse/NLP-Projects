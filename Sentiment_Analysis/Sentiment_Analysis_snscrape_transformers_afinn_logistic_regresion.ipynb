{
 "cells": [
  {
   "cell_type": "markdown",
   "id": "4502b926",
   "metadata": {},
   "source": [
    "<h1>TWITTER SENTIMENT ANALYSIS WITH SNSCRAPE, TRANSFORMERS, AFINN AND LOGISTIC REGRESION</h1>"
   ]
  },
  {
   "cell_type": "markdown",
   "id": "e7a31bf1",
   "metadata": {},
   "source": [
    "<h2>INTRODUCTION</h2>\n",
    "\n",
    "Gabapentinoids are drugs that are derivatives of the inhibitory neurotransmitter gamma-Aminobutyric acid (GABA) (i.e., GABA analogues). Citing the FDA website: \"Gabapentinoids are FDA-approved to treat a variety of conditions including partial seizures and nerve pain from spinal cord injury, shingles, and diabetes. Other approved uses include fibromyalgia and restless legs syndrome. Gabapentin was first approved in 1993 and pregabalin was first approved in 2004. Gabapentin is marketed under the brand names Neurontin and Gralise, and also as generics. Gabapentin enacarbil is marketed under the brand name Horizant. Pregabalin is marketed under the brand names Lyrica and Lyrica CR, and also as generics. Pregabalin is a Schedule V controlled substance, which means it has a lower potential for abuse among the drugs scheduled by the Drug Enforcement Administration (DEA), but may lead to some physical or psychological dependence.\"\n",
    "\n",
    "Apart from the uses that are FDA-approved, gabapentinoids are widely prescribed for many off-label uses: all kinds of pain, bipolar disorder, anxiety, depression, insomnia, endometriosis, hot flushes... and are considered a safe alternative to opioids. They are also prescribed to pets. \n",
    "\n",
    "For many people, gabapentinoids are 'miracle drugs' and 'godsends'. For many people (including myself), they are ineffective and have many side effects and adverse reactions. That's the reason why I'm going to try to perform a sentiment analysis on tweets that mention these drugs."
   ]
  },
  {
   "cell_type": "markdown",
   "id": "aeb3cbd3",
   "metadata": {},
   "source": [
    "<h2>DATA</h2>"
   ]
  },
  {
   "cell_type": "markdown",
   "id": "c369a9e8",
   "metadata": {},
   "source": [
    "<h3>Data Gathering</h3>\n",
    "\n",
    "Code used to scrape tweets written in English that contain the term 'pregabalin' and to save it in a CSV file:"
   ]
  },
  {
   "cell_type": "code",
   "execution_count": null,
   "id": "95eccc6d",
   "metadata": {},
   "outputs": [],
   "source": [
    "#Importing necessary library\n",
    "import snscrape.modules.twitter as sntwitter\n",
    "import pandas as pd\n",
    "import itertools\n",
    "\n",
    "pd.set_option('display.max_columns', None)\n",
    "\n",
    "pd.set_option('display.max_colwidth', None)"
   ]
  },
  {
   "cell_type": "code",
   "execution_count": null,
   "id": "2ae35d15",
   "metadata": {},
   "outputs": [],
   "source": [
    "#Importing the datetime to calculate the time for scraping the 50000 tweets\n",
    "from datetime import datetime\n",
    "start_time = datetime.now()"
   ]
  },
  {
   "cell_type": "code",
   "execution_count": null,
   "id": "093b950c",
   "metadata": {},
   "outputs": [],
   "source": [
    "#Creating dataframe called 'data' and storing the tweets 'Pregabalin' written in English.\n",
    "data = pd.DataFrame(itertools.islice(sntwitter.TwitterSearchScraper(\n",
    "    \"pregabalin lang:en\").get_items(), 50000))\n",
    "end_time = datetime.now()"
   ]
  },
  {
   "cell_type": "code",
   "execution_count": null,
   "id": "2db5bcd3",
   "metadata": {},
   "outputs": [],
   "source": [
    "data.to_csv('snspregabalin.csv')"
   ]
  },
  {
   "cell_type": "markdown",
   "id": "3a2b5d63",
   "metadata": {},
   "source": [
    "I repeat the same process for 'gabapentin', 'gabapentinoids', 'neurontin', 'gralise' and 'horizant' and put together all the tweets."
   ]
  },
  {
   "cell_type": "code",
   "execution_count": 2,
   "id": "ad0db204",
   "metadata": {},
   "outputs": [
    {
     "data": {
      "text/plain": [
       "(132076, 28)"
      ]
     },
     "execution_count": 2,
     "metadata": {},
     "output_type": "execute_result"
    }
   ],
   "source": [
    "import pandas as pd\n",
    "\n",
    "csv_files = ['snsgabapentin.csv', 'snsgabapentinoids.csv', 'snspregabalin.csv', 'snsneurontin.csv', 'snsgralise.csv', \n",
    "             'snshorizant.csv']\n",
    "\n",
    "tweets = []\n",
    "\n",
    "for filename in csv_files:\n",
    "    data = pd.read_csv(filename, encoding='utf-8', low_memory=False)\n",
    "    tweets.append(data)\n",
    "    \n",
    "tweets = pd.concat(tweets)\n",
    "\n",
    "tweets.shape"
   ]
  },
  {
   "cell_type": "code",
   "execution_count": 3,
   "id": "eefd9331",
   "metadata": {},
   "outputs": [
    {
     "name": "stdout",
     "output_type": "stream",
     "text": [
      "<class 'pandas.core.frame.DataFrame'>\n",
      "Int64Index: 132076 entries, 0 to 3453\n",
      "Data columns (total 28 columns):\n",
      " #   Column            Non-Null Count   Dtype  \n",
      "---  ------            --------------   -----  \n",
      " 0   Unnamed: 0        132076 non-null  int64  \n",
      " 1   url               132076 non-null  object \n",
      " 2   date              132076 non-null  object \n",
      " 3   content           132076 non-null  object \n",
      " 4   renderedContent   132076 non-null  object \n",
      " 5   id                132076 non-null  int64  \n",
      " 6   user              132076 non-null  object \n",
      " 7   replyCount        132076 non-null  int64  \n",
      " 8   retweetCount      132076 non-null  int64  \n",
      " 9   likeCount         132076 non-null  int64  \n",
      " 10  quoteCount        132076 non-null  int64  \n",
      " 11  conversationId    132076 non-null  int64  \n",
      " 12  lang              132076 non-null  object \n",
      " 13  source            132076 non-null  object \n",
      " 14  sourceUrl         132076 non-null  object \n",
      " 15  sourceLabel       132076 non-null  object \n",
      " 16  outlinks          45302 non-null   object \n",
      " 17  tcooutlinks       45302 non-null   object \n",
      " 18  media             7050 non-null    object \n",
      " 19  retweetedTweet    0 non-null       float64\n",
      " 20  quotedTweet       3087 non-null    object \n",
      " 21  inReplyToTweetId  53410 non-null   float64\n",
      " 22  inReplyToUser     53410 non-null   object \n",
      " 23  mentionedUsers    55467 non-null   object \n",
      " 24  coordinates       3317 non-null    object \n",
      " 25  place             3302 non-null    object \n",
      " 26  hashtags          24474 non-null   object \n",
      " 27  cashtags          733 non-null     object \n",
      "dtypes: float64(2), int64(7), object(19)\n",
      "memory usage: 29.2+ MB\n"
     ]
    }
   ],
   "source": [
    "tweets.info()"
   ]
  },
  {
   "cell_type": "markdown",
   "id": "e17f4d02",
   "metadata": {},
   "source": [
    "I decide to keep only the next columns:"
   ]
  },
  {
   "cell_type": "code",
   "execution_count": 4,
   "id": "c57173bf",
   "metadata": {},
   "outputs": [
    {
     "name": "stdout",
     "output_type": "stream",
     "text": [
      "<class 'pandas.core.frame.DataFrame'>\n",
      "Int64Index: 132076 entries, 0 to 3453\n",
      "Data columns (total 8 columns):\n",
      " #   Column          Non-Null Count   Dtype \n",
      "---  ------          --------------   ----- \n",
      " 0   date            132076 non-null  object\n",
      " 1   content         132076 non-null  object\n",
      " 2   id              132076 non-null  int64 \n",
      " 3   replyCount      132076 non-null  int64 \n",
      " 4   retweetCount    132076 non-null  int64 \n",
      " 5   likeCount       132076 non-null  int64 \n",
      " 6   quoteCount      132076 non-null  int64 \n",
      " 7   conversationId  132076 non-null  int64 \n",
      "dtypes: int64(6), object(2)\n",
      "memory usage: 9.1+ MB\n"
     ]
    }
   ],
   "source": [
    "tweets = tweets[['date', 'content', 'id', 'replyCount',\n",
    "       'retweetCount', 'likeCount', 'quoteCount', 'conversationId']]\n",
    "\n",
    "tweets.info()"
   ]
  },
  {
   "cell_type": "code",
   "execution_count": 5,
   "id": "fdccb6f6",
   "metadata": {},
   "outputs": [
    {
     "data": {
      "text/plain": [
       "(122440, 8)"
      ]
     },
     "execution_count": 5,
     "metadata": {},
     "output_type": "execute_result"
    }
   ],
   "source": [
    "tweets.drop_duplicates(subset='content', inplace=True)\n",
    "\n",
    "tweets.shape"
   ]
  },
  {
   "cell_type": "code",
   "execution_count": 6,
   "id": "cd943ac7",
   "metadata": {},
   "outputs": [],
   "source": [
    "tweets.to_csv('snstweets.csv')"
   ]
  },
  {
   "cell_type": "markdown",
   "id": "6cde90df",
   "metadata": {},
   "source": [
    "<h2>SENTIMENT ANALYSIS</h2>\n",
    "\n",
    "<h3>Hugging Face Transformers</h3>\n",
    "\n",
    "Code used to perform the analysis and add three more columns to the dataset:"
   ]
  },
  {
   "cell_type": "code",
   "execution_count": null,
   "id": "0abb0e8b",
   "metadata": {},
   "outputs": [],
   "source": [
    "from transformers import pipeline\n",
    "sentiment_classifier = pipeline('sentiment-analysis')"
   ]
  },
  {
   "cell_type": "code",
   "execution_count": null,
   "id": "0e0875ed",
   "metadata": {},
   "outputs": [],
   "source": [
    "df = pd.read_csv('snstweets.csv')"
   ]
  },
  {
   "cell_type": "code",
   "execution_count": null,
   "id": "8762ed74",
   "metadata": {},
   "outputs": [],
   "source": [
    "df = (\n",
    "    df\n",
    "    .assign(sentiment = lambda x: x['content'].apply(lambda s: sentiment_classifier(s)))\n",
    "    .assign(\n",
    "         label = lambda x: x['sentiment'].apply(lambda s: (s[0]['label'])),\n",
    "         score = lambda x: x['sentiment'].apply(lambda s: (s[0]['score']))\n",
    "    )\n",
    ")"
   ]
  },
  {
   "cell_type": "code",
   "execution_count": null,
   "id": "81d3b790",
   "metadata": {},
   "outputs": [],
   "source": [
    "df.to_pickle('sentiment_tweets.pkl')"
   ]
  },
  {
   "cell_type": "markdown",
   "id": "b59726f3",
   "metadata": {},
   "source": [
    "<h3>Afinn</h3>\n",
    "\n",
    "Cleaning of mentions:"
   ]
  },
  {
   "cell_type": "code",
   "execution_count": null,
   "id": "06b2a1b4",
   "metadata": {},
   "outputs": [],
   "source": [
    "def remove_pattern(input_txt, pattern):\n",
    "    r = re.findall(pattern, input_txt)\n",
    "    for i in r:\n",
    "        input_txt = re.sub(i, '', input_txt)\n",
    "    return input_txt"
   ]
  },
  {
   "cell_type": "code",
   "execution_count": null,
   "id": "8faf894d",
   "metadata": {},
   "outputs": [],
   "source": [
    "df['content'] = np.vectorize(remove_pattern)(df['content'], \"@[\\w]*\")"
   ]
  },
  {
   "cell_type": "markdown",
   "id": "92281230",
   "metadata": {},
   "source": [
    "Removal of duplicates:"
   ]
  },
  {
   "cell_type": "code",
   "execution_count": null,
   "id": "3b717818",
   "metadata": {},
   "outputs": [],
   "source": [
    "df.drop_duplicates(subset='content', inplace=True)"
   ]
  },
  {
   "cell_type": "markdown",
   "id": "d7c78456",
   "metadata": {},
   "source": [
    "Classification of tweets with Afinn"
   ]
  },
  {
   "cell_type": "code",
   "execution_count": null,
   "id": "40b85c88",
   "metadata": {},
   "outputs": [],
   "source": [
    "from afinn import Afinn\n",
    "\n",
    "afn = Afinn(emoticons=True)\n",
    "\n",
    "scores = [afn.score(content) for content in df.content]\n",
    "\n",
    "sentiment = ['positive' if score > 0 else 'negative' if score < 0 else 'neutral' for score in scores]\n",
    "                          \n",
    "\n",
    "df['af_scores'] = scores\n",
    "\n",
    "df['af_sentiment'] = sentiment"
   ]
  },
  {
   "cell_type": "code",
   "execution_count": null,
   "id": "fd4d5f12",
   "metadata": {},
   "outputs": [],
   "source": [
    "df.to_pickle(\"sentiment_tweets.pkl\")"
   ]
  },
  {
   "cell_type": "markdown",
   "id": "6673a7f2",
   "metadata": {},
   "source": [
    "<h2>DATA CLEANING AND PREPROCESSING</h2>\n",
    "\n",
    "First, we import all the necessary libraries."
   ]
  },
  {
   "cell_type": "code",
   "execution_count": 1,
   "id": "405956a6",
   "metadata": {},
   "outputs": [],
   "source": [
    "import warnings\n",
    "import numpy as np\n",
    "import pandas as pd\n",
    "import seaborn as sns # for visualization\n",
    "import matplotlib.pyplot as plt # for visualization\n",
    "from IPython.display import display\n",
    "\n",
    "# for nlp\n",
    "import nltk\n",
    "import re\n",
    "from nltk.stem import WordNetLemmatizer\n",
    "\n",
    "# setting up the background style for the plots\n",
    "plt.style.use('fivethirtyeight')\n",
    "%matplotlib inline\n",
    "\n",
    "pd.set_option(\"display.max_colwidth\", 200) \n",
    "warnings.filterwarnings(\"ignore\", category=DeprecationWarning) "
   ]
  },
  {
   "cell_type": "markdown",
   "id": "fdbb9ad2",
   "metadata": {},
   "source": [
    "This is the resulting dataset after applying Transformers and Afinn and removing mentions and duplicates."
   ]
  },
  {
   "cell_type": "code",
   "execution_count": 2,
   "id": "2c0b028d",
   "metadata": {},
   "outputs": [
    {
     "data": {
      "text/html": [
       "<div>\n",
       "<style scoped>\n",
       "    .dataframe tbody tr th:only-of-type {\n",
       "        vertical-align: middle;\n",
       "    }\n",
       "\n",
       "    .dataframe tbody tr th {\n",
       "        vertical-align: top;\n",
       "    }\n",
       "\n",
       "    .dataframe thead th {\n",
       "        text-align: right;\n",
       "    }\n",
       "</style>\n",
       "<table border=\"1\" class=\"dataframe\">\n",
       "  <thead>\n",
       "    <tr style=\"text-align: right;\">\n",
       "      <th></th>\n",
       "      <th>date</th>\n",
       "      <th>content</th>\n",
       "      <th>id</th>\n",
       "      <th>replyCount</th>\n",
       "      <th>retweetCount</th>\n",
       "      <th>likeCount</th>\n",
       "      <th>quoteCount</th>\n",
       "      <th>conversationId</th>\n",
       "      <th>sentiment</th>\n",
       "      <th>label</th>\n",
       "      <th>score</th>\n",
       "      <th>af_scores</th>\n",
       "      <th>af_sentiment</th>\n",
       "    </tr>\n",
       "  </thead>\n",
       "  <tbody>\n",
       "    <tr>\n",
       "      <th>47173</th>\n",
       "      <td>2019-07-08 23:38:12+00:00</td>\n",
       "      <td>A 25-Year-Old Drug For Nerve Pain Called Gabapentin Is Now Part Of The Opioid Crisis https://t.co/QN9GJzdWIv</td>\n",
       "      <td>1148375764892573696</td>\n",
       "      <td>0</td>\n",
       "      <td>0</td>\n",
       "      <td>0</td>\n",
       "      <td>0</td>\n",
       "      <td>1148375764892573696</td>\n",
       "      <td>[{'label': 'NEGATIVE', 'score': 0.9986481070518494}]</td>\n",
       "      <td>NEGATIVE</td>\n",
       "      <td>0.998648</td>\n",
       "      <td>-5.0</td>\n",
       "      <td>negative</td>\n",
       "    </tr>\n",
       "    <tr>\n",
       "      <th>7756</th>\n",
       "      <td>2021-05-05 05:10:22+00:00</td>\n",
       "      <td>I'm going off gabapentin and onto zonisamide for weight gain. Seems to be doing ok for the nerve pain. I'm down from 4 times a day to 2 or 3 times a day with ibuprofen &amp;amp; Tylenol, and twice a...</td>\n",
       "      <td>1389809672719192066</td>\n",
       "      <td>0</td>\n",
       "      <td>0</td>\n",
       "      <td>1</td>\n",
       "      <td>0</td>\n",
       "      <td>1389789859045285891</td>\n",
       "      <td>[{'label': 'POSITIVE', 'score': 0.9748300313949585}]</td>\n",
       "      <td>POSITIVE</td>\n",
       "      <td>0.974830</td>\n",
       "      <td>0.0</td>\n",
       "      <td>neutral</td>\n",
       "    </tr>\n",
       "    <tr>\n",
       "      <th>46025</th>\n",
       "      <td>2019-07-28 02:19:27+00:00</td>\n",
       "      <td>Got it! From the vet, she was on rimadyl and gabapentin. Otc was aspirin (never acetaminophen!!). Also, glucosamine for old age joint pain (human version works). Also, pumpkin for soothing GI tract.</td>\n",
       "      <td>1155301712107855872</td>\n",
       "      <td>1</td>\n",
       "      <td>0</td>\n",
       "      <td>1</td>\n",
       "      <td>0</td>\n",
       "      <td>1155155278653874176</td>\n",
       "      <td>[{'label': 'NEGATIVE', 'score': 0.9829466938972473}]</td>\n",
       "      <td>NEGATIVE</td>\n",
       "      <td>0.982947</td>\n",
       "      <td>1.0</td>\n",
       "      <td>positive</td>\n",
       "    </tr>\n",
       "    <tr>\n",
       "      <th>111114</th>\n",
       "      <td>2011-02-18 01:10:09+00:00</td>\n",
       "      <td>#viagra: Gabapentin 300 mg: Generic Neurontin - Viagra price per pill at http://gabapentin300mg.net/l/20211/vi9</td>\n",
       "      <td>38404870956531712</td>\n",
       "      <td>0</td>\n",
       "      <td>0</td>\n",
       "      <td>0</td>\n",
       "      <td>0</td>\n",
       "      <td>38404870956531712</td>\n",
       "      <td>[{'label': 'NEGATIVE', 'score': 0.9966347217559814}]</td>\n",
       "      <td>NEGATIVE</td>\n",
       "      <td>0.996635</td>\n",
       "      <td>0.0</td>\n",
       "      <td>neutral</td>\n",
       "    </tr>\n",
       "    <tr>\n",
       "      <th>15670</th>\n",
       "      <td>2021-01-09 22:00:41+00:00</td>\n",
       "      <td>though these days i'm really glad it's mild enough that off-label gabapentin lets me get to sleep 😌</td>\n",
       "      <td>1348026936967135233</td>\n",
       "      <td>1</td>\n",
       "      <td>0</td>\n",
       "      <td>2</td>\n",
       "      <td>0</td>\n",
       "      <td>1348021495923003392</td>\n",
       "      <td>[{'label': 'NEGATIVE', 'score': 0.9959456324577332}]</td>\n",
       "      <td>NEGATIVE</td>\n",
       "      <td>0.995946</td>\n",
       "      <td>3.0</td>\n",
       "      <td>positive</td>\n",
       "    </tr>\n",
       "  </tbody>\n",
       "</table>\n",
       "</div>"
      ],
      "text/plain": [
       "                             date  \\\n",
       "47173   2019-07-08 23:38:12+00:00   \n",
       "7756    2021-05-05 05:10:22+00:00   \n",
       "46025   2019-07-28 02:19:27+00:00   \n",
       "111114  2011-02-18 01:10:09+00:00   \n",
       "15670   2021-01-09 22:00:41+00:00   \n",
       "\n",
       "                                                                                                                                                                                                        content  \\\n",
       "47173                                                                                              A 25-Year-Old Drug For Nerve Pain Called Gabapentin Is Now Part Of The Opioid Crisis https://t.co/QN9GJzdWIv   \n",
       "7756      I'm going off gabapentin and onto zonisamide for weight gain. Seems to be doing ok for the nerve pain. I'm down from 4 times a day to 2 or 3 times a day with ibuprofen &amp; Tylenol, and twice a...   \n",
       "46025    Got it! From the vet, she was on rimadyl and gabapentin. Otc was aspirin (never acetaminophen!!). Also, glucosamine for old age joint pain (human version works). Also, pumpkin for soothing GI tract.   \n",
       "111114                                                                                          #viagra: Gabapentin 300 mg: Generic Neurontin - Viagra price per pill at http://gabapentin300mg.net/l/20211/vi9   \n",
       "15670                                                                                                       though these days i'm really glad it's mild enough that off-label gabapentin lets me get to sleep 😌   \n",
       "\n",
       "                         id  replyCount  retweetCount  likeCount  quoteCount  \\\n",
       "47173   1148375764892573696           0             0          0           0   \n",
       "7756    1389809672719192066           0             0          1           0   \n",
       "46025   1155301712107855872           1             0          1           0   \n",
       "111114    38404870956531712           0             0          0           0   \n",
       "15670   1348026936967135233           1             0          2           0   \n",
       "\n",
       "             conversationId  \\\n",
       "47173   1148375764892573696   \n",
       "7756    1389789859045285891   \n",
       "46025   1155155278653874176   \n",
       "111114    38404870956531712   \n",
       "15670   1348021495923003392   \n",
       "\n",
       "                                                   sentiment     label  \\\n",
       "47173   [{'label': 'NEGATIVE', 'score': 0.9986481070518494}]  NEGATIVE   \n",
       "7756    [{'label': 'POSITIVE', 'score': 0.9748300313949585}]  POSITIVE   \n",
       "46025   [{'label': 'NEGATIVE', 'score': 0.9829466938972473}]  NEGATIVE   \n",
       "111114  [{'label': 'NEGATIVE', 'score': 0.9966347217559814}]  NEGATIVE   \n",
       "15670   [{'label': 'NEGATIVE', 'score': 0.9959456324577332}]  NEGATIVE   \n",
       "\n",
       "           score  af_scores af_sentiment  \n",
       "47173   0.998648       -5.0     negative  \n",
       "7756    0.974830        0.0      neutral  \n",
       "46025   0.982947        1.0     positive  \n",
       "111114  0.996635        0.0      neutral  \n",
       "15670   0.995946        3.0     positive  "
      ]
     },
     "execution_count": 2,
     "metadata": {},
     "output_type": "execute_result"
    }
   ],
   "source": [
    "df = pd.read_pickle('sentiment_tweets.pkl')\n",
    "\n",
    "df.sample(5)"
   ]
  },
  {
   "cell_type": "code",
   "execution_count": 4,
   "id": "d3580477",
   "metadata": {},
   "outputs": [
    {
     "name": "stdout",
     "output_type": "stream",
     "text": [
      "<class 'pandas.core.frame.DataFrame'>\n",
      "Int64Index: 122244 entries, 0 to 122439\n",
      "Data columns (total 13 columns):\n",
      " #   Column          Non-Null Count   Dtype  \n",
      "---  ------          --------------   -----  \n",
      " 0   date            122244 non-null  object \n",
      " 1   content         122244 non-null  object \n",
      " 2   id              122244 non-null  int64  \n",
      " 3   replyCount      122244 non-null  int64  \n",
      " 4   retweetCount    122244 non-null  int64  \n",
      " 5   likeCount       122244 non-null  int64  \n",
      " 6   quoteCount      122244 non-null  int64  \n",
      " 7   conversationId  122244 non-null  int64  \n",
      " 8   sentiment       122244 non-null  object \n",
      " 9   label           122244 non-null  object \n",
      " 10  score           122244 non-null  float64\n",
      " 11  af_scores       122244 non-null  float64\n",
      " 12  af_sentiment    122244 non-null  object \n",
      "dtypes: float64(2), int64(6), object(5)\n",
      "memory usage: 13.1+ MB\n"
     ]
    }
   ],
   "source": [
    "df.info()"
   ]
  },
  {
   "cell_type": "code",
   "execution_count": 5,
   "id": "8f2ed739",
   "metadata": {},
   "outputs": [
    {
     "data": {
      "text/plain": [
       "(122244, 13)"
      ]
     },
     "execution_count": 5,
     "metadata": {},
     "output_type": "execute_result"
    }
   ],
   "source": [
    "df.shape"
   ]
  },
  {
   "cell_type": "markdown",
   "id": "4ed66f64",
   "metadata": {},
   "source": [
    "- Extraction of the lenghts of tweets for posterior analysis:"
   ]
  },
  {
   "cell_type": "code",
   "execution_count": 6,
   "id": "e01bc568",
   "metadata": {},
   "outputs": [],
   "source": [
    "#Creating the length column for tweet\n",
    "df['pre_clean_len']=  [len(t) for t in df.content]"
   ]
  },
  {
   "cell_type": "markdown",
   "id": "87b76aee",
   "metadata": {},
   "source": [
    "- Change of 'date' column to datetime to setting as index of the dataset:"
   ]
  },
  {
   "cell_type": "code",
   "execution_count": 7,
   "id": "d692a55c",
   "metadata": {},
   "outputs": [
    {
     "data": {
      "text/plain": [
       "0   2021-08-26 10:52:16+00:00\n",
       "1   2021-08-26 09:28:24+00:00\n",
       "2   2021-08-26 08:38:28+00:00\n",
       "3   2021-08-26 07:45:22+00:00\n",
       "4   2021-08-26 07:42:13+00:00\n",
       "Name: date, dtype: datetime64[ns, UTC]"
      ]
     },
     "execution_count": 7,
     "metadata": {},
     "output_type": "execute_result"
    }
   ],
   "source": [
    "df['date'] = pd.to_datetime(df['date'])\n",
    "\n",
    "df['date'].head()"
   ]
  },
  {
   "cell_type": "code",
   "execution_count": 8,
   "id": "a97f767e",
   "metadata": {},
   "outputs": [
    {
     "data": {
      "text/html": [
       "<div>\n",
       "<style scoped>\n",
       "    .dataframe tbody tr th:only-of-type {\n",
       "        vertical-align: middle;\n",
       "    }\n",
       "\n",
       "    .dataframe tbody tr th {\n",
       "        vertical-align: top;\n",
       "    }\n",
       "\n",
       "    .dataframe thead th {\n",
       "        text-align: right;\n",
       "    }\n",
       "</style>\n",
       "<table border=\"1\" class=\"dataframe\">\n",
       "  <thead>\n",
       "    <tr style=\"text-align: right;\">\n",
       "      <th></th>\n",
       "      <th>id</th>\n",
       "      <th>content</th>\n",
       "    </tr>\n",
       "    <tr>\n",
       "      <th>date</th>\n",
       "      <th></th>\n",
       "      <th></th>\n",
       "    </tr>\n",
       "  </thead>\n",
       "  <tbody>\n",
       "    <tr>\n",
       "      <th>2013-08-12 21:30:23+00:00</th>\n",
       "      <td>367035359651053568</td>\n",
       "      <td>Neurontin Antitrust:      NEWARK - Neither retailers like CVS nor drugmakers like Pfizer deserve summary judgm... http://t.co/vDKEtsd0YR</td>\n",
       "    </tr>\n",
       "    <tr>\n",
       "      <th>2019-11-08 08:21:00+00:00</th>\n",
       "      <td>1192718651578863621</td>\n",
       "      <td>Adverse events more likely with concurrent opioid and benzodiazepine use. Gabapentinoids obliterate the \"respiratory tolerance\" that builds up in patients on high dose opioids: leading to apnoea...</td>\n",
       "    </tr>\n",
       "    <tr>\n",
       "      <th>2014-06-05 21:40:20+00:00</th>\n",
       "      <td>474667058970767360</td>\n",
       "      <td>thanks. i haven't tried an snri. could always do that if upping pregabalin doesn't work *non-pharmacist sigh*</td>\n",
       "    </tr>\n",
       "    <tr>\n",
       "      <th>2021-01-27 20:32:46+00:00</th>\n",
       "      <td>1354527794814976006</td>\n",
       "      <td>Mouse study: #gabapentin prevents harmful structural changes in #spinalcord https://t.co/Uw7OuR2RG3 via  \\n\\n\"Autonomic dysfunction is a major problem for people living with a spinal cord injury.\"...</td>\n",
       "    </tr>\n",
       "    <tr>\n",
       "      <th>2012-04-09 16:40:50+00:00</th>\n",
       "      <td>189392439465877505</td>\n",
       "      <td>#pharma #med Pregab Ml: i am getting pregabalin  but have just spoke to my doctor about repeat priscription and ...  http://t.co/KYzAjvVi</td>\n",
       "    </tr>\n",
       "  </tbody>\n",
       "</table>\n",
       "</div>"
      ],
      "text/plain": [
       "                                            id  \\\n",
       "date                                             \n",
       "2013-08-12 21:30:23+00:00   367035359651053568   \n",
       "2019-11-08 08:21:00+00:00  1192718651578863621   \n",
       "2014-06-05 21:40:20+00:00   474667058970767360   \n",
       "2021-01-27 20:32:46+00:00  1354527794814976006   \n",
       "2012-04-09 16:40:50+00:00   189392439465877505   \n",
       "\n",
       "                                                                                                                                                                                                                           content  \n",
       "date                                                                                                                                                                                                                                \n",
       "2013-08-12 21:30:23+00:00                                                                 Neurontin Antitrust:      NEWARK - Neither retailers like CVS nor drugmakers like Pfizer deserve summary judgm... http://t.co/vDKEtsd0YR  \n",
       "2019-11-08 08:21:00+00:00    Adverse events more likely with concurrent opioid and benzodiazepine use. Gabapentinoids obliterate the \"respiratory tolerance\" that builds up in patients on high dose opioids: leading to apnoea...  \n",
       "2014-06-05 21:40:20+00:00                                                                                            thanks. i haven't tried an snri. could always do that if upping pregabalin doesn't work *non-pharmacist sigh*  \n",
       "2021-01-27 20:32:46+00:00  Mouse study: #gabapentin prevents harmful structural changes in #spinalcord https://t.co/Uw7OuR2RG3 via  \\n\\n\"Autonomic dysfunction is a major problem for people living with a spinal cord injury.\"...  \n",
       "2012-04-09 16:40:50+00:00                                                                #pharma #med Pregab Ml: i am getting pregabalin  but have just spoke to my doctor about repeat priscription and ...  http://t.co/KYzAjvVi  "
      ]
     },
     "execution_count": 8,
     "metadata": {},
     "output_type": "execute_result"
    }
   ],
   "source": [
    "df = df.set_index('date')\n",
    "\n",
    "df.sort_index(inplace=True)\n",
    "\n",
    "df[['id', 'content']].sample(5)"
   ]
  },
  {
   "cell_type": "markdown",
   "id": "191e4f75",
   "metadata": {},
   "source": [
    "- Lowercasing"
   ]
  },
  {
   "cell_type": "code",
   "execution_count": 9,
   "id": "2dd76905",
   "metadata": {},
   "outputs": [],
   "source": [
    "df['clean_content'] = df['content'].str.lower()"
   ]
  },
  {
   "cell_type": "markdown",
   "id": "15ebfc12",
   "metadata": {},
   "source": [
    "- Keep only the tweets that contain the terms 'gabapentinoids', 'gabapentin', 'neurontin', 'lyrica', 'pregabalin', 'gralise', and 'horizant'."
   ]
  },
  {
   "cell_type": "code",
   "execution_count": 10,
   "id": "2321d1bb",
   "metadata": {},
   "outputs": [
    {
     "data": {
      "text/plain": [
       "(120486, 14)"
      ]
     },
     "execution_count": 10,
     "metadata": {},
     "output_type": "execute_result"
    }
   ],
   "source": [
    "df = df[df['clean_content'].str.contains('gabapentinoids|gabapentin|neurontin|lyrica|pregabalin|gralise|horizant')]\n",
    "\n",
    "df.shape"
   ]
  },
  {
   "cell_type": "markdown",
   "id": "f9bde87f",
   "metadata": {},
   "source": [
    "- Extract hashtags for posterior analysis."
   ]
  },
  {
   "cell_type": "code",
   "execution_count": 11,
   "id": "e8e94305",
   "metadata": {},
   "outputs": [],
   "source": [
    "tag_list = []\n",
    "def hashtag_extract(x):\n",
    "    # Loop over the words in the tweet\n",
    "    for i in x:\n",
    "        ht = re.findall(r\"#(\\w+)\", i)\n",
    "        tag_list.append(ht)\n",
    "    return tag_list"
   ]
  },
  {
   "cell_type": "code",
   "execution_count": 12,
   "id": "14c1890b",
   "metadata": {},
   "outputs": [],
   "source": [
    "hasht = hashtag_extract(df['clean_content'])\n",
    "\n",
    "hasht = sum(hasht,[])"
   ]
  },
  {
   "cell_type": "code",
   "execution_count": 13,
   "id": "7d1a8b36",
   "metadata": {},
   "outputs": [],
   "source": [
    "hashtags = nltk.FreqDist(hasht)\n",
    "hashtags = pd.DataFrame({'Hashtag': list(hashtags.keys()),\n",
    "                  'Count': list(hashtags.values())}).sort_values(by='Count', ascending=False)\n",
    "hashtags.to_csv('hashtags.csv')"
   ]
  },
  {
   "cell_type": "markdown",
   "id": "5b6efb3a",
   "metadata": {},
   "source": [
    "- For the preprocessing of URLs, emoticons, non-alphanumeric characters, consecutive letters, strings with just one alphanumeric character, stopwords and Lemmatization, we define a dictionary of emoticons and a set of stopwords and use a function."
   ]
  },
  {
   "cell_type": "code",
   "execution_count": 14,
   "id": "8cec0b82",
   "metadata": {},
   "outputs": [],
   "source": [
    "# Defining dictionary of emoticons with their meanings.\n",
    "emoticons = {':)': 'smile', ':-)': 'smile', ';d': 'wink', ':-E': 'vampire', ':(': 'sad', \n",
    "          ':-(': 'sad', ':-<': 'sad', ':P': 'raspberry', ':O': 'surprised',\n",
    "          ':-@': 'shocked', ':@': 'shocked',':-$': 'confused', ':\\\\': 'annoyed', \n",
    "          ':#': 'mute', ':X': 'mute', ':^)': 'smile', ':-&': 'confused', '$_$': 'greedy',\n",
    "          '@@': 'eyeroll', ':-!': 'confused', ':-D': 'smile', ':-0': 'yell', 'O.o': 'confused',\n",
    "          '<(-_-)>': 'robot', 'd[-_-]b': 'dj', \":'-)\": 'sadsmile', ';)': 'wink', \n",
    "          ';-)': 'wink', 'O:-)': 'angel','O*-)': 'angel','(:-D': 'gossip', '=^.^=': 'cat'}\n",
    "\n",
    "## Defining set of stopwords in english.\n",
    "stopwordlist = ['a', 'about', 'above', 'after', 'again', 'ain', 'all', 'am', 'an',\n",
    "             'and', 'amp', 'any','are', 'as', 'at', 'be', 'because', 'been', 'before',\n",
    "             'being', 'below', 'between','both', 'but', 'by', 'can', 'd', 'did', 'do',\n",
    "             'does', 'doing', 'down', 'during', 'each','few', 'for', 'from', \n",
    "             'further', 'gt', 'had', 'has', 'have', 'having', 'he', 'her', 'here',\n",
    "             'hers', 'herself', 'him', 'himself', 'his', 'how', 'i', 'if', 'in',\n",
    "             'into','is', 'it', 'its', 'itself', 'just', 'll', 'm', 'ma',\n",
    "             'me', 'more', 'most','my', 'myself', 'no', 'not', 'now', 'o', 'of', 'on', 'once',\n",
    "             'only', 'or', 'other', 'our', 'ours','ourselves', 'out', 'own', 'quot', 're',\n",
    "             's', 'same', 'she', \"shes\", 'should', \"shouldve\",'so', 'some', 'such',\n",
    "             't', 'than', 'that', \"thatll\", 'the', 'their', 'theirs', 'them',\n",
    "             'themselves', 'then', 'there', 'these', 'they', 'this', 'those', \n",
    "             'through', 'to', 'too','under', 'until', 'up', 'URL', 'USER', 've', 'very', 'was',\n",
    "             'we', 'were', 'what', 'when', 'where','which','while', 'who', 'whom',\n",
    "             'why', 'will', 'with', 'won', 'y', 'you', \"youd\",\"youll\", \"youre\",\n",
    "             \"youve\", 'your', 'yours', 'yourself', 'yourselves']"
   ]
  },
  {
   "cell_type": "code",
   "execution_count": 15,
   "id": "44821090",
   "metadata": {},
   "outputs": [],
   "source": [
    "def preprocess(textdata):\n",
    "    processedText = []\n",
    "    \n",
    "    # Create Lemmatizer and Stemmer.\n",
    "    wordLemm = WordNetLemmatizer()\n",
    "    \n",
    "    # Defining regex patterns.\n",
    "    urlPattern        = r\"((http://)[^ ]*|(https://)[^ ]*|( www\\.)[^ ]*)\"\n",
    "    alphaPattern      = \"[^a-zA-Z0-9]\"\n",
    "    sequencePattern   = r\"(.)\\1\\1+\"\n",
    "    seqReplacePattern = r\"\\1\\1\"\n",
    "    \n",
    "    for tweet in textdata:\n",
    "        \n",
    "        # Replace all URls with 'URL'\n",
    "        tweet = re.sub(urlPattern,' URL',tweet)\n",
    "        # Replace all emojis.\n",
    "        for emoticon in emoticons.keys():\n",
    "            tweet = tweet.replace(emoticon, \"EMOJI\" + emoticons[emoticon])        \n",
    "        # Replace all non alphanumerics.\n",
    "        tweet = re.sub(alphaPattern, \" \", tweet)\n",
    "        # Replace 3 or more consecutive letters by 2 letter.\n",
    "        tweet = re.sub(sequencePattern, seqReplacePattern, tweet)\n",
    "\n",
    "        tweetwords = ''\n",
    "        for word in tweet.split():\n",
    "            # Checking if the word is a stopword.\n",
    "            if word not in stopwordlist:\n",
    "                if len(word)>1:\n",
    "                    # Lemmatizing the word.\n",
    "                    word = wordLemm.lemmatize(word)\n",
    "                    tweetwords += (word+' ')\n",
    "            \n",
    "        processedText.append(tweetwords)\n",
    "        \n",
    "    return processedText"
   ]
  },
  {
   "cell_type": "markdown",
   "id": "bfd42078",
   "metadata": {},
   "source": [
    "We transform the 'clean_content' column into a list and aplly the function:"
   ]
  },
  {
   "cell_type": "code",
   "execution_count": 16,
   "id": "13db5a97",
   "metadata": {},
   "outputs": [
    {
     "data": {
      "text/plain": [
       "[\"up till b's meds ~3:30am. already having exhaustion-linked auditory hallucinations & f*ed-up thinking...time for more neurontin.\",\n",
       " 'medinews: pregabalin decreases pain, expedites movement in knee replacement patients http://tinyurl.com/23aocu',\n",
       " '/fwump. how long is the damn neurontin supposed to take to work anyway? tired, grumpy, in pain. feh.',\n",
       " 'appears that the neurontin is kicking in.  woo!  go go gadget no pain!',\n",
       " 'oh boy, my first neurontin side effect: wooziness!  awesomesauce with fries.']"
      ]
     },
     "execution_count": 16,
     "metadata": {},
     "output_type": "execute_result"
    }
   ],
   "source": [
    "df['clean_content'] = df['clean_content'].astype('str')\n",
    "\n",
    "text = list(df['clean_content'])\n",
    "\n",
    "text[:5]"
   ]
  },
  {
   "cell_type": "code",
   "execution_count": 17,
   "id": "df19a68f",
   "metadata": {},
   "outputs": [
    {
     "name": "stdout",
     "output_type": "stream",
     "text": [
      "Text Preprocessing complete.\n",
      "Time Taken: 23 seconds\n"
     ]
    }
   ],
   "source": [
    "import time\n",
    "t = time.time()\n",
    "processedtext = preprocess(text)\n",
    "print(f'Text Preprocessing complete.')\n",
    "print(f'Time Taken: {round(time.time()-t)} seconds')"
   ]
  },
  {
   "cell_type": "code",
   "execution_count": 18,
   "id": "5071ef2b",
   "metadata": {},
   "outputs": [
    {
     "data": {
      "text/html": [
       "<div>\n",
       "<style scoped>\n",
       "    .dataframe tbody tr th:only-of-type {\n",
       "        vertical-align: middle;\n",
       "    }\n",
       "\n",
       "    .dataframe tbody tr th {\n",
       "        vertical-align: top;\n",
       "    }\n",
       "\n",
       "    .dataframe thead th {\n",
       "        text-align: right;\n",
       "    }\n",
       "</style>\n",
       "<table border=\"1\" class=\"dataframe\">\n",
       "  <thead>\n",
       "    <tr style=\"text-align: right;\">\n",
       "      <th></th>\n",
       "      <th>content</th>\n",
       "      <th>clean_content</th>\n",
       "    </tr>\n",
       "    <tr>\n",
       "      <th>date</th>\n",
       "      <th></th>\n",
       "      <th></th>\n",
       "    </tr>\n",
       "  </thead>\n",
       "  <tbody>\n",
       "    <tr>\n",
       "      <th>2007-04-15 07:40:17+00:00</th>\n",
       "      <td>Up till B's meds ~3:30am. Already having exhaustion-linked auditory hallucinations &amp; f*ed-up thinking...time for more Neurontin.</td>\n",
       "      <td>till med 30am already exhaustion linked auditory hallucination ed thinking time neurontin</td>\n",
       "    </tr>\n",
       "    <tr>\n",
       "      <th>2007-10-15 12:34:14+00:00</th>\n",
       "      <td>medinews: Pregabalin Decreases Pain, Expedites Movement In Knee Replacement Patients http://tinyurl.com/23aocu</td>\n",
       "      <td>medinews pregabalin decrease pain expedites movement knee replacement patient</td>\n",
       "    </tr>\n",
       "    <tr>\n",
       "      <th>2007-10-30 23:33:59+00:00</th>\n",
       "      <td>/fwump. how long is the damn neurontin supposed to take to work anyway? tired, grumpy, in pain. feh.</td>\n",
       "      <td>fwump long damn neurontin supposed take work anyway tired grumpy pain feh</td>\n",
       "    </tr>\n",
       "    <tr>\n",
       "      <th>2007-11-12 17:32:53+00:00</th>\n",
       "      <td>appears that the neurontin is kicking in.  woo!  go go gadget no pain!</td>\n",
       "      <td>appears neurontin kicking woo go go gadget pain</td>\n",
       "    </tr>\n",
       "    <tr>\n",
       "      <th>2007-11-20 21:01:09+00:00</th>\n",
       "      <td>oh boy, my first neurontin side effect: wooziness!  awesomesauce with fries.</td>\n",
       "      <td>oh boy first neurontin side effect wooziness awesomesauce fry</td>\n",
       "    </tr>\n",
       "    <tr>\n",
       "      <th>2007-12-28 23:04:18+00:00</th>\n",
       "      <td>joints aching. nts: never, ever skip neurontin EVAR. ow. fuck.</td>\n",
       "      <td>joint aching nt never ever skip neurontin evar ow fuck</td>\n",
       "    </tr>\n",
       "    <tr>\n",
       "      <th>2008-01-15 16:20:06+00:00</th>\n",
       "      <td>morning: feel kind of spacey, but not too bad. maybe some of the weird headspaces I've been in were neurontin? possible...</td>\n",
       "      <td>morning feel kind spacey bad maybe weird headspace neurontin possible</td>\n",
       "    </tr>\n",
       "    <tr>\n",
       "      <th>2008-01-15 17:57:23+00:00</th>\n",
       "      <td>whee, neurontin fog + vague stumbling!  ROCK ON! I &amp;lt;3 side effects. /eyeroll off to the bank.</td>\n",
       "      <td>whee neurontin fog vague stumbling rock lt side effect eyeroll off bank</td>\n",
       "    </tr>\n",
       "    <tr>\n",
       "      <th>2008-01-15 18:25:22+00:00</th>\n",
       "      <td>Whee, neurontin=dizzy &amp; handshakes! Fun?</td>\n",
       "      <td>whee neurontin dizzy handshake fun</td>\n",
       "    </tr>\n",
       "    <tr>\n",
       "      <th>2008-01-15 19:20:19+00:00</th>\n",
       "      <td>Neurontin side effects so far: morning brainfoggery, dizziness/vertigo, lack of coordination/balance. Hand tremors?  Possibly.</td>\n",
       "      <td>neurontin side effect far morning brainfoggery dizziness vertigo lack coordination balance hand tremor possibly</td>\n",
       "    </tr>\n",
       "  </tbody>\n",
       "</table>\n",
       "</div>"
      ],
      "text/plain": [
       "                                                                                                                                                    content  \\\n",
       "date                                                                                                                                                          \n",
       "2007-04-15 07:40:17+00:00  Up till B's meds ~3:30am. Already having exhaustion-linked auditory hallucinations & f*ed-up thinking...time for more Neurontin.   \n",
       "2007-10-15 12:34:14+00:00                    medinews: Pregabalin Decreases Pain, Expedites Movement In Knee Replacement Patients http://tinyurl.com/23aocu   \n",
       "2007-10-30 23:33:59+00:00                              /fwump. how long is the damn neurontin supposed to take to work anyway? tired, grumpy, in pain. feh.   \n",
       "2007-11-12 17:32:53+00:00                                                            appears that the neurontin is kicking in.  woo!  go go gadget no pain!   \n",
       "2007-11-20 21:01:09+00:00                                                      oh boy, my first neurontin side effect: wooziness!  awesomesauce with fries.   \n",
       "2007-12-28 23:04:18+00:00                                                                    joints aching. nts: never, ever skip neurontin EVAR. ow. fuck.   \n",
       "2008-01-15 16:20:06+00:00        morning: feel kind of spacey, but not too bad. maybe some of the weird headspaces I've been in were neurontin? possible...   \n",
       "2008-01-15 17:57:23+00:00                                  whee, neurontin fog + vague stumbling!  ROCK ON! I &lt;3 side effects. /eyeroll off to the bank.   \n",
       "2008-01-15 18:25:22+00:00                                                                                          Whee, neurontin=dizzy & handshakes! Fun?   \n",
       "2008-01-15 19:20:19+00:00    Neurontin side effects so far: morning brainfoggery, dizziness/vertigo, lack of coordination/balance. Hand tremors?  Possibly.   \n",
       "\n",
       "                                                                                                                              clean_content  \n",
       "date                                                                                                                                         \n",
       "2007-04-15 07:40:17+00:00                        till med 30am already exhaustion linked auditory hallucination ed thinking time neurontin   \n",
       "2007-10-15 12:34:14+00:00                                    medinews pregabalin decrease pain expedites movement knee replacement patient   \n",
       "2007-10-30 23:33:59+00:00                                        fwump long damn neurontin supposed take work anyway tired grumpy pain feh   \n",
       "2007-11-12 17:32:53+00:00                                                                  appears neurontin kicking woo go go gadget pain   \n",
       "2007-11-20 21:01:09+00:00                                                    oh boy first neurontin side effect wooziness awesomesauce fry   \n",
       "2007-12-28 23:04:18+00:00                                                           joint aching nt never ever skip neurontin evar ow fuck   \n",
       "2008-01-15 16:20:06+00:00                                            morning feel kind spacey bad maybe weird headspace neurontin possible   \n",
       "2008-01-15 17:57:23+00:00                                          whee neurontin fog vague stumbling rock lt side effect eyeroll off bank   \n",
       "2008-01-15 18:25:22+00:00                                                                               whee neurontin dizzy handshake fun   \n",
       "2008-01-15 19:20:19+00:00  neurontin side effect far morning brainfoggery dizziness vertigo lack coordination balance hand tremor possibly   "
      ]
     },
     "execution_count": 18,
     "metadata": {},
     "output_type": "execute_result"
    }
   ],
   "source": [
    "df['clean_content'] = processedtext\n",
    "\n",
    "df[['content', 'clean_content']].head(10)"
   ]
  },
  {
   "cell_type": "markdown",
   "id": "11170ae2",
   "metadata": {},
   "source": [
    "<h2>EDA</h2>\n",
    "\n",
    "First, we extract the lenght of the clean tweets."
   ]
  },
  {
   "cell_type": "code",
   "execution_count": 19,
   "id": "92ad70de",
   "metadata": {},
   "outputs": [],
   "source": [
    "df['clean_len'] = [len(t) for t in df['clean_content']]"
   ]
  },
  {
   "cell_type": "markdown",
   "id": "b24239ea",
   "metadata": {},
   "source": [
    "- Length of the tweets before and after cleaning:"
   ]
  },
  {
   "cell_type": "code",
   "execution_count": 20,
   "id": "0a7cd480",
   "metadata": {},
   "outputs": [
    {
     "data": {
      "image/png": "[encoded data removed]",
      "text/plain": [
       "<Figure size 1080x360 with 2 Axes>"
      ]
     },
     "metadata": {
      "needs_background": "light"
     },
     "output_type": "display_data"
    }
   ],
   "source": [
    "fig,(ax1,ax2)=plt.subplots(1,2,figsize=(15,5))\n",
    "sns.histplot(df[\"pre_clean_len\"],bins = 30,ax = ax1, kde=True).set(title = \"Pre Clean Tweets\")\n",
    "sns.histplot(df[\"clean_len\"],bins = 30,ax = ax2, kde = True).set(title = \"Clean Tweets\")\n",
    "plt.show()"
   ]
  },
  {
   "cell_type": "markdown",
   "id": "a26f9609",
   "metadata": {},
   "source": [
    "- Yearly boxplots:"
   ]
  },
  {
   "cell_type": "code",
   "execution_count": 21,
   "id": "14f811cb",
   "metadata": {},
   "outputs": [
    {
     "data": {
      "text/plain": [
       "<AxesSubplot:xlabel='date', ylabel='pre_clean_len'>"
      ]
     },
     "execution_count": 21,
     "metadata": {},
     "output_type": "execute_result"
    },
    {
     "data": {
      "image/png": "[encoded data removed]",
      "text/plain": [
       "<Figure size 1152x432 with 1 Axes>"
      ]
     },
     "metadata": {
      "needs_background": "light"
     },
     "output_type": "display_data"
    }
   ],
   "source": [
    "plt.figure(figsize=(16, 6))\n",
    "\n",
    "# boxplots by month\n",
    "sns.boxplot(x = df.index.year, y='pre_clean_len', data = df)"
   ]
  },
  {
   "cell_type": "markdown",
   "id": "cb0dfb85",
   "metadata": {},
   "source": [
    "- Yearly distribution of tweets:"
   ]
  },
  {
   "cell_type": "code",
   "execution_count": 22,
   "id": "9d94d1e0",
   "metadata": {},
   "outputs": [
    {
     "data": {
      "image/png": "[encoded data removed]",
      "text/plain": [
       "<Figure size 360x360 with 1 Axes>"
      ]
     },
     "metadata": {},
     "output_type": "display_data"
    }
   ],
   "source": [
    "# Set the seaborn style\n",
    "sns.set()\n",
    "# Plot the histogram of hours\n",
    "sns.displot(df.index.year, bins=14)\n",
    "plt.title(\"Yearly Distribution of Tweets\")\n",
    "plt.show()"
   ]
  },
  {
   "cell_type": "markdown",
   "id": "24c626aa",
   "metadata": {},
   "source": [
    "- Tweets with more likes:"
   ]
  },
  {
   "cell_type": "code",
   "execution_count": 23,
   "id": "c609210a",
   "metadata": {},
   "outputs": [
    {
     "data": {
      "text/html": [
       "<div>\n",
       "<style scoped>\n",
       "    .dataframe tbody tr th:only-of-type {\n",
       "        vertical-align: middle;\n",
       "    }\n",
       "\n",
       "    .dataframe tbody tr th {\n",
       "        vertical-align: top;\n",
       "    }\n",
       "\n",
       "    .dataframe thead th {\n",
       "        text-align: right;\n",
       "    }\n",
       "</style>\n",
       "<table border=\"1\" class=\"dataframe\">\n",
       "  <thead>\n",
       "    <tr style=\"text-align: right;\">\n",
       "      <th></th>\n",
       "      <th>content</th>\n",
       "      <th>clean_content</th>\n",
       "      <th>likeCount</th>\n",
       "    </tr>\n",
       "    <tr>\n",
       "      <th>date</th>\n",
       "      <th></th>\n",
       "      <th></th>\n",
       "      <th></th>\n",
       "    </tr>\n",
       "  </thead>\n",
       "  <tbody>\n",
       "    <tr>\n",
       "      <th>2021-03-03 20:49:52+00:00</th>\n",
       "      <td>only the baddest bitches take gabapentin💯 https://t.co/FJQXL2DUm3</td>\n",
       "      <td>baddest bitch take gabapentin</td>\n",
       "      <td>17045</td>\n",
       "    </tr>\n",
       "    <tr>\n",
       "      <th>2021-08-21 10:55:02+00:00</th>\n",
       "      <td>Eleven weeks post-chemo, and, thanks to pregabalin, this is the first day I've been free of neuropathic pain, and the first night I haven't needed codeine to get to sleep. Celebrating with a nice ...</td>\n",
       "      <td>eleven week post chemo thanks pregabalin first day free neuropathic pain first night haven needed codeine get sleep celebrating nice cup tea maybe marmalade sandwich goodbyemrc</td>\n",
       "      <td>7730</td>\n",
       "    </tr>\n",
       "    <tr>\n",
       "      <th>2021-01-28 18:10:53+00:00</th>\n",
       "      <td>grandson piss &amp;gt; xanax, gabapentin https://t.co/svv3X5U1qH</td>\n",
       "      <td>grandson piss xanax gabapentin</td>\n",
       "      <td>3636</td>\n",
       "    </tr>\n",
       "    <tr>\n",
       "      <th>2020-09-25 15:54:15+00:00</th>\n",
       "      <td>Hey friends.\\nSo little change or movement since yesterday.\\nStarted on Gabapentin for the week and ordered to rest for a few days.\\nGood news I think is, its not my leg, but my paw which has swol...</td>\n",
       "      <td>hey friend little change movement since yesterday started gabapentin week ordered rest day good news think leg paw swollen day milking sympathy ordered dogsoftwitter dog dog</td>\n",
       "      <td>1878</td>\n",
       "    </tr>\n",
       "    <tr>\n",
       "      <th>2020-08-05 14:51:22+00:00</th>\n",
       "      <td>Which drug do you think has the most off-label use and why did you pick gabapentin?</td>\n",
       "      <td>drug think off label use pick gabapentin</td>\n",
       "      <td>1529</td>\n",
       "    </tr>\n",
       "    <tr>\n",
       "      <th>2021-01-10 05:10:50+00:00</th>\n",
       "      <td>I’m annoyed as fuck I tried to do something funny on fb that actually mirrored my life. Bitches... I’m on fucking Xanax   I’m on gabapentin I now take 20 mg of Lexapro every morning I’m struggling...</td>\n",
       "      <td>annoyed fuck tried something funny fb actually mirrored life bitch fucking xanax gabapentin take 20 mg lexapro every morning struggling also trying keep humorous suck dick peace</td>\n",
       "      <td>1384</td>\n",
       "    </tr>\n",
       "    <tr>\n",
       "      <th>2021-07-11 18:05:46+00:00</th>\n",
       "      <td>I love seeing him fast asleep. He doesn’t sleep much, so when he has his gabapentin I know he’s in no pain and he’s getting the rest he desperately needs. \\n\\nLittle Edward ❤️🥺❤️ https://t.co/IF50...</td>\n",
       "      <td>love seeing fast asleep doesn sleep much gabapentin know pain getting rest desperately need little edward</td>\n",
       "      <td>1198</td>\n",
       "    </tr>\n",
       "    <tr>\n",
       "      <th>2020-02-28 16:27:47+00:00</th>\n",
       "      <td>I’d big pink star earrings on last night. Prob not policy. Saw a 20yo girl with seizure, heroin &amp;amp; pregabalin abuse. Had refused all obs and access. She liked my earrings, I liked her pink hai...</td>\n",
       "      <td>big pink star earring last night prob policy saw 20yo girl seizure heroin pregabalin abuse refused ob access liked earring liked pink hair chat let treat patient diverse staff</td>\n",
       "      <td>1173</td>\n",
       "    </tr>\n",
       "    <tr>\n",
       "      <th>2020-09-02 01:25:19+00:00</th>\n",
       "      <td>1/\\nHOW does gabapentin work?\\nDOES gabapentin work? \\nWHY is gabapentin so shady?\\n\\nJoin me for a #tweetorial?\\n\\nKeywords: Glutatmate, Asterixis, Alcohol-use disorder\\n#livertwitter #MedTwitter...</td>\n",
       "      <td>gabapentin work gabapentin work gabapentin shady join tweetorial keywords glutatmate asterixis alcohol use disorder livertwitter medtwitter meded</td>\n",
       "      <td>1017</td>\n",
       "    </tr>\n",
       "    <tr>\n",
       "      <th>2019-08-15 11:54:01+00:00</th>\n",
       "      <td>Gosh mum’s phone has gone into melt down this morning! I’ve never felt so loved in all my 8 years!! 🐾💕\\n\\nThankyou for all the beautiful messages! \\n\\nHad my gabapentin and anti-inflammatories and...</td>\n",
       "      <td>gosh mum phone gone melt morning never felt loved year thankyou beautiful message gabapentin anti inflammatories bowl full yummy egg never seen mum happy</td>\n",
       "      <td>895</td>\n",
       "    </tr>\n",
       "  </tbody>\n",
       "</table>\n",
       "</div>"
      ],
      "text/plain": [
       "                                                                                                                                                                                                                           content  \\\n",
       "date                                                                                                                                                                                                                                 \n",
       "2021-03-03 20:49:52+00:00                                                                                                                                        only the baddest bitches take gabapentin💯 https://t.co/FJQXL2DUm3   \n",
       "2021-08-21 10:55:02+00:00  Eleven weeks post-chemo, and, thanks to pregabalin, this is the first day I've been free of neuropathic pain, and the first night I haven't needed codeine to get to sleep. Celebrating with a nice ...   \n",
       "2021-01-28 18:10:53+00:00                                                                                                                                             grandson piss &gt; xanax, gabapentin https://t.co/svv3X5U1qH   \n",
       "2020-09-25 15:54:15+00:00  Hey friends.\\nSo little change or movement since yesterday.\\nStarted on Gabapentin for the week and ordered to rest for a few days.\\nGood news I think is, its not my leg, but my paw which has swol...   \n",
       "2020-08-05 14:51:22+00:00                                                                                                                      Which drug do you think has the most off-label use and why did you pick gabapentin?   \n",
       "2021-01-10 05:10:50+00:00  I’m annoyed as fuck I tried to do something funny on fb that actually mirrored my life. Bitches... I’m on fucking Xanax   I’m on gabapentin I now take 20 mg of Lexapro every morning I’m struggling...   \n",
       "2021-07-11 18:05:46+00:00  I love seeing him fast asleep. He doesn’t sleep much, so when he has his gabapentin I know he’s in no pain and he’s getting the rest he desperately needs. \\n\\nLittle Edward ❤️🥺❤️ https://t.co/IF50...   \n",
       "2020-02-28 16:27:47+00:00   I’d big pink star earrings on last night. Prob not policy. Saw a 20yo girl with seizure, heroin &amp; pregabalin abuse. Had refused all obs and access. She liked my earrings, I liked her pink hai...   \n",
       "2020-09-02 01:25:19+00:00  1/\\nHOW does gabapentin work?\\nDOES gabapentin work? \\nWHY is gabapentin so shady?\\n\\nJoin me for a #tweetorial?\\n\\nKeywords: Glutatmate, Asterixis, Alcohol-use disorder\\n#livertwitter #MedTwitter...   \n",
       "2019-08-15 11:54:01+00:00  Gosh mum’s phone has gone into melt down this morning! I’ve never felt so loved in all my 8 years!! 🐾💕\\n\\nThankyou for all the beautiful messages! \\n\\nHad my gabapentin and anti-inflammatories and...   \n",
       "\n",
       "                                                                                                                                                                                                clean_content  \\\n",
       "date                                                                                                                                                                                                            \n",
       "2021-03-03 20:49:52+00:00                                                                                                                                                      baddest bitch take gabapentin    \n",
       "2021-08-21 10:55:02+00:00   eleven week post chemo thanks pregabalin first day free neuropathic pain first night haven needed codeine get sleep celebrating nice cup tea maybe marmalade sandwich goodbyemrc    \n",
       "2021-01-28 18:10:53+00:00                                                                                                                                                     grandson piss xanax gabapentin    \n",
       "2020-09-25 15:54:15+00:00      hey friend little change movement since yesterday started gabapentin week ordered rest day good news think leg paw swollen day milking sympathy ordered dogsoftwitter dog dog    \n",
       "2020-08-05 14:51:22+00:00                                                                                                                                           drug think off label use pick gabapentin    \n",
       "2021-01-10 05:10:50+00:00  annoyed fuck tried something funny fb actually mirrored life bitch fucking xanax gabapentin take 20 mg lexapro every morning struggling also trying keep humorous suck dick peace    \n",
       "2021-07-11 18:05:46+00:00                                                                          love seeing fast asleep doesn sleep much gabapentin know pain getting rest desperately need little edward    \n",
       "2020-02-28 16:27:47+00:00    big pink star earring last night prob policy saw 20yo girl seizure heroin pregabalin abuse refused ob access liked earring liked pink hair chat let treat patient diverse staff    \n",
       "2020-09-02 01:25:19+00:00                                  gabapentin work gabapentin work gabapentin shady join tweetorial keywords glutatmate asterixis alcohol use disorder livertwitter medtwitter meded    \n",
       "2019-08-15 11:54:01+00:00                          gosh mum phone gone melt morning never felt loved year thankyou beautiful message gabapentin anti inflammatories bowl full yummy egg never seen mum happy    \n",
       "\n",
       "                           likeCount  \n",
       "date                                  \n",
       "2021-03-03 20:49:52+00:00      17045  \n",
       "2021-08-21 10:55:02+00:00       7730  \n",
       "2021-01-28 18:10:53+00:00       3636  \n",
       "2020-09-25 15:54:15+00:00       1878  \n",
       "2020-08-05 14:51:22+00:00       1529  \n",
       "2021-01-10 05:10:50+00:00       1384  \n",
       "2021-07-11 18:05:46+00:00       1198  \n",
       "2020-02-28 16:27:47+00:00       1173  \n",
       "2020-09-02 01:25:19+00:00       1017  \n",
       "2019-08-15 11:54:01+00:00        895  "
      ]
     },
     "metadata": {},
     "output_type": "display_data"
    }
   ],
   "source": [
    "display(df.sort_values(by=[\"likeCount\"], axis=0, ascending=False)[[\"content\", 'clean_content', \"likeCount\"]].head(10))"
   ]
  },
  {
   "cell_type": "markdown",
   "id": "e5c3a63e",
   "metadata": {},
   "source": [
    "- Tweets with more retweets:"
   ]
  },
  {
   "cell_type": "code",
   "execution_count": 24,
   "id": "8150c00f",
   "metadata": {},
   "outputs": [
    {
     "data": {
      "text/html": [
       "<div>\n",
       "<style scoped>\n",
       "    .dataframe tbody tr th:only-of-type {\n",
       "        vertical-align: middle;\n",
       "    }\n",
       "\n",
       "    .dataframe tbody tr th {\n",
       "        vertical-align: top;\n",
       "    }\n",
       "\n",
       "    .dataframe thead th {\n",
       "        text-align: right;\n",
       "    }\n",
       "</style>\n",
       "<table border=\"1\" class=\"dataframe\">\n",
       "  <thead>\n",
       "    <tr style=\"text-align: right;\">\n",
       "      <th></th>\n",
       "      <th>content</th>\n",
       "      <th>retweetCount</th>\n",
       "      <th>id</th>\n",
       "    </tr>\n",
       "    <tr>\n",
       "      <th>date</th>\n",
       "      <th></th>\n",
       "      <th></th>\n",
       "      <th></th>\n",
       "    </tr>\n",
       "  </thead>\n",
       "  <tbody>\n",
       "    <tr>\n",
       "      <th>2017-03-21 06:51:37+00:00</th>\n",
       "      <td>Buy Pregabalin (75 to 300 mg pills) or Lyrica Online from a UK Online Doctor Service Now More at https://t.co/tbQ6gbE1Sp</td>\n",
       "      <td>419</td>\n",
       "      <td>844079029313396736</td>\n",
       "    </tr>\n",
       "    <tr>\n",
       "      <th>2020-09-02 01:25:19+00:00</th>\n",
       "      <td>1/\\nHOW does gabapentin work?\\nDOES gabapentin work? \\nWHY is gabapentin so shady?\\n\\nJoin me for a #tweetorial?\\n\\nKeywords: Glutatmate, Asterixis, Alcohol-use disorder\\n#livertwitter #MedTwitter...</td>\n",
       "      <td>343</td>\n",
       "      <td>1300968010124009472</td>\n",
       "    </tr>\n",
       "    <tr>\n",
       "      <th>2019-10-31 20:32:25+00:00</th>\n",
       "      <td>Medicine is broken\\n\\n\"Parke-Davis hired medical education companies to write review papers, original articles, and letters to the editor in medical journals about gabapentin for '$13,375 to $18,0...</td>\n",
       "      <td>303</td>\n",
       "      <td>1190003614577770497</td>\n",
       "    </tr>\n",
       "    <tr>\n",
       "      <th>2021-03-03 20:49:52+00:00</th>\n",
       "      <td>only the baddest bitches take gabapentin💯 https://t.co/FJQXL2DUm3</td>\n",
       "      <td>301</td>\n",
       "      <td>1367215672904863747</td>\n",
       "    </tr>\n",
       "    <tr>\n",
       "      <th>2021-07-22 08:23:40+00:00</th>\n",
       "      <td>⚡️Drugs used to treat Neuropathic Pain⚡️\\n\\n🔹pregabalin\\n\\n🔹gabapentin\\n\\n🔹duloxetine\\n\\n🔹amitriptyline\\n\\n🔹nortriptyline\\n\\n🔹carbamazepine</td>\n",
       "      <td>218</td>\n",
       "      <td>1418124571971051527</td>\n",
       "    </tr>\n",
       "    <tr>\n",
       "      <th>2021-01-28 18:10:53+00:00</th>\n",
       "      <td>grandson piss &amp;gt; xanax, gabapentin https://t.co/svv3X5U1qH</td>\n",
       "      <td>210</td>\n",
       "      <td>1354854474288783364</td>\n",
       "    </tr>\n",
       "    <tr>\n",
       "      <th>2020-04-29 08:19:03+00:00</th>\n",
       "      <td>Preglabin and gabapentin are not effective for LBP, sciatica, spinal stenosis or episodic migraine - new SR   https://t.co/PAPERZfyjP</td>\n",
       "      <td>177</td>\n",
       "      <td>1255411259740217346</td>\n",
       "    </tr>\n",
       "    <tr>\n",
       "      <th>2019-12-19 19:00:12+00:00</th>\n",
       "      <td>-- Pregabalin\\n\\nIndications: \\n\\n- Epilepsy\\n- Neuropathic pain\\n- Fibromyalgia\\n\\nMechanism: \\n\\nAn inhibitor of α2δ subunit-containing voltage-dependent calcium channels. \\n\\nThough it is a GAB...</td>\n",
       "      <td>171</td>\n",
       "      <td>1207737411033292800</td>\n",
       "    </tr>\n",
       "    <tr>\n",
       "      <th>2021-03-23 08:46:00+00:00</th>\n",
       "      <td>💊Drugs used to treat Neuropathic Pain\\n\\n🔸Amitriptyline\\n\\n🔸Duloxetine\\n\\n🔸Gabapentin\\n\\n🔸Pregabalin</td>\n",
       "      <td>165</td>\n",
       "      <td>1374281261414486017</td>\n",
       "    </tr>\n",
       "    <tr>\n",
       "      <th>2020-08-24 17:29:45+00:00</th>\n",
       "      <td>⚡️Drugs used to treat Neuropathic Pain⚡️\\n-------------------------------------------------\\n\\n📌Pregabalin\\n\\n📌Gabapentin\\n\\n📌Duloxetine\\n\\n📌Amitriptyline</td>\n",
       "      <td>164</td>\n",
       "      <td>1297949229818818561</td>\n",
       "    </tr>\n",
       "  </tbody>\n",
       "</table>\n",
       "</div>"
      ],
      "text/plain": [
       "                                                                                                                                                                                                                           content  \\\n",
       "date                                                                                                                                                                                                                                 \n",
       "2017-03-21 06:51:37+00:00                                                                                 Buy Pregabalin (75 to 300 mg pills) or Lyrica Online from a UK Online Doctor Service Now More at https://t.co/tbQ6gbE1Sp   \n",
       "2020-09-02 01:25:19+00:00  1/\\nHOW does gabapentin work?\\nDOES gabapentin work? \\nWHY is gabapentin so shady?\\n\\nJoin me for a #tweetorial?\\n\\nKeywords: Glutatmate, Asterixis, Alcohol-use disorder\\n#livertwitter #MedTwitter...   \n",
       "2019-10-31 20:32:25+00:00  Medicine is broken\\n\\n\"Parke-Davis hired medical education companies to write review papers, original articles, and letters to the editor in medical journals about gabapentin for '$13,375 to $18,0...   \n",
       "2021-03-03 20:49:52+00:00                                                                                                                                        only the baddest bitches take gabapentin💯 https://t.co/FJQXL2DUm3   \n",
       "2021-07-22 08:23:40+00:00                                                              ⚡️Drugs used to treat Neuropathic Pain⚡️\\n\\n🔹pregabalin\\n\\n🔹gabapentin\\n\\n🔹duloxetine\\n\\n🔹amitriptyline\\n\\n🔹nortriptyline\\n\\n🔹carbamazepine   \n",
       "2021-01-28 18:10:53+00:00                                                                                                                                             grandson piss &gt; xanax, gabapentin https://t.co/svv3X5U1qH   \n",
       "2020-04-29 08:19:03+00:00                                                                    Preglabin and gabapentin are not effective for LBP, sciatica, spinal stenosis or episodic migraine - new SR   https://t.co/PAPERZfyjP   \n",
       "2019-12-19 19:00:12+00:00  -- Pregabalin\\n\\nIndications: \\n\\n- Epilepsy\\n- Neuropathic pain\\n- Fibromyalgia\\n\\nMechanism: \\n\\nAn inhibitor of α2δ subunit-containing voltage-dependent calcium channels. \\n\\nThough it is a GAB...   \n",
       "2021-03-23 08:46:00+00:00                                                                                                     💊Drugs used to treat Neuropathic Pain\\n\\n🔸Amitriptyline\\n\\n🔸Duloxetine\\n\\n🔸Gabapentin\\n\\n🔸Pregabalin   \n",
       "2020-08-24 17:29:45+00:00                                               ⚡️Drugs used to treat Neuropathic Pain⚡️\\n-------------------------------------------------\\n\\n📌Pregabalin\\n\\n📌Gabapentin\\n\\n📌Duloxetine\\n\\n📌Amitriptyline   \n",
       "\n",
       "                           retweetCount                   id  \n",
       "date                                                          \n",
       "2017-03-21 06:51:37+00:00           419   844079029313396736  \n",
       "2020-09-02 01:25:19+00:00           343  1300968010124009472  \n",
       "2019-10-31 20:32:25+00:00           303  1190003614577770497  \n",
       "2021-03-03 20:49:52+00:00           301  1367215672904863747  \n",
       "2021-07-22 08:23:40+00:00           218  1418124571971051527  \n",
       "2021-01-28 18:10:53+00:00           210  1354854474288783364  \n",
       "2020-04-29 08:19:03+00:00           177  1255411259740217346  \n",
       "2019-12-19 19:00:12+00:00           171  1207737411033292800  \n",
       "2021-03-23 08:46:00+00:00           165  1374281261414486017  \n",
       "2020-08-24 17:29:45+00:00           164  1297949229818818561  "
      ]
     },
     "metadata": {},
     "output_type": "display_data"
    }
   ],
   "source": [
    "display(df.sort_values(by=[\"retweetCount\"], axis=0, ascending=False)[[\"content\",\"retweetCount\", \"id\"]].head(10))"
   ]
  },
  {
   "cell_type": "code",
   "execution_count": 25,
   "id": "9fe1f668",
   "metadata": {},
   "outputs": [
    {
     "data": {
      "text/plain": [
       "['Medicine is broken\\n\\n\"Parke-Davis hired medical education companies to write review papers, original articles, and letters to the editor in medical journals about gabapentin for \\'$13,375 to $18,000 per article,\\' plus a $1,000 honorarium for the author.\"\\n\\nhttps://t.co/MeIoaYIjlL']"
      ]
     },
     "execution_count": 25,
     "metadata": {},
     "output_type": "execute_result"
    }
   ],
   "source": [
    "df[df['id']==1190003614577770497]['content'].to_list()"
   ]
  },
  {
   "cell_type": "markdown",
   "id": "8d56e964",
   "metadata": {},
   "source": [
    "- Tweets with more replies:"
   ]
  },
  {
   "cell_type": "code",
   "execution_count": 26,
   "id": "d408e624",
   "metadata": {},
   "outputs": [
    {
     "data": {
      "text/html": [
       "<div>\n",
       "<style scoped>\n",
       "    .dataframe tbody tr th:only-of-type {\n",
       "        vertical-align: middle;\n",
       "    }\n",
       "\n",
       "    .dataframe tbody tr th {\n",
       "        vertical-align: top;\n",
       "    }\n",
       "\n",
       "    .dataframe thead th {\n",
       "        text-align: right;\n",
       "    }\n",
       "</style>\n",
       "<table border=\"1\" class=\"dataframe\">\n",
       "  <thead>\n",
       "    <tr style=\"text-align: right;\">\n",
       "      <th></th>\n",
       "      <th>content</th>\n",
       "      <th>replyCount</th>\n",
       "      <th>id</th>\n",
       "    </tr>\n",
       "    <tr>\n",
       "      <th>date</th>\n",
       "      <th></th>\n",
       "      <th></th>\n",
       "      <th></th>\n",
       "    </tr>\n",
       "  </thead>\n",
       "  <tbody>\n",
       "    <tr>\n",
       "      <th>2021-02-19 15:14:02+00:00</th>\n",
       "      <td>Any one have any strong feelings about the drug Gabapentin?</td>\n",
       "      <td>1538</td>\n",
       "      <td>1362782500964102150</td>\n",
       "    </tr>\n",
       "    <tr>\n",
       "      <th>2021-01-10 05:10:50+00:00</th>\n",
       "      <td>I’m annoyed as fuck I tried to do something funny on fb that actually mirrored my life. Bitches... I’m on fucking Xanax   I’m on gabapentin I now take 20 mg of Lexapro every morning I’m struggling...</td>\n",
       "      <td>368</td>\n",
       "      <td>1348135189554155520</td>\n",
       "    </tr>\n",
       "    <tr>\n",
       "      <th>2020-09-25 15:54:15+00:00</th>\n",
       "      <td>Hey friends.\\nSo little change or movement since yesterday.\\nStarted on Gabapentin for the week and ordered to rest for a few days.\\nGood news I think is, its not my leg, but my paw which has swol...</td>\n",
       "      <td>218</td>\n",
       "      <td>1309521607640182785</td>\n",
       "    </tr>\n",
       "    <tr>\n",
       "      <th>2019-07-16 09:54:48+00:00</th>\n",
       "      <td>I’m at the vets .. my neck is so painful I’m crying out every time I move ... good news I’ve lost lots of weight now only .. yes only 16.4 .. Vet given metacam, gabapentin and Pardale V. \\nEnjoy y...</td>\n",
       "      <td>193</td>\n",
       "      <td>1151067651625684993</td>\n",
       "    </tr>\n",
       "    <tr>\n",
       "      <th>2021-08-21 10:55:02+00:00</th>\n",
       "      <td>Eleven weeks post-chemo, and, thanks to pregabalin, this is the first day I've been free of neuropathic pain, and the first night I haven't needed codeine to get to sleep. Celebrating with a nice ...</td>\n",
       "      <td>183</td>\n",
       "      <td>1429034300519981063</td>\n",
       "    </tr>\n",
       "    <tr>\n",
       "      <th>2021-02-20 12:18:27+00:00</th>\n",
       "      <td>I really don't know why I have to bring this up, but my Gabapentin usage is for seizure prevention.\\n\\nDon't cop an attitude about a medication that's saving my life right now.\\n\\nAlready had to b...</td>\n",
       "      <td>173</td>\n",
       "      <td>1363100703774793729</td>\n",
       "    </tr>\n",
       "    <tr>\n",
       "      <th>2020-08-05 14:51:22+00:00</th>\n",
       "      <td>Which drug do you think has the most off-label use and why did you pick gabapentin?</td>\n",
       "      <td>147</td>\n",
       "      <td>1291024000857014273</td>\n",
       "    </tr>\n",
       "    <tr>\n",
       "      <th>2019-07-19 20:34:29+00:00</th>\n",
       "      <td>Just met with the anesthesiologist prior to my surgery next week.  He said Tylenol and gabapentin would be used for pain control.\\nNo one is cutting me open and giving me freaking Tylenol for pain...</td>\n",
       "      <td>144</td>\n",
       "      <td>1152315797185822721</td>\n",
       "    </tr>\n",
       "    <tr>\n",
       "      <th>2020-06-10 09:03:23+00:00</th>\n",
       "      <td>Dr thinks I have sciatica, but slightly untypical symptoms. Huge pain under right bum, just off to the right. Sitting /pressure; crippling pain down to knee. If I’ve been sitting, getting up very ...</td>\n",
       "      <td>135</td>\n",
       "      <td>1270642709041164288</td>\n",
       "    </tr>\n",
       "    <tr>\n",
       "      <th>2021-03-31 21:22:21+00:00</th>\n",
       "      <td>My beautiful, sweet, amazing Slinky went lame on his right back leg about 4 hours ago. We’ve been dealing with it before posting. He’s on metacam and gabapentin and if no improvement will be in hi...</td>\n",
       "      <td>128</td>\n",
       "      <td>1377370706694995968</td>\n",
       "    </tr>\n",
       "  </tbody>\n",
       "</table>\n",
       "</div>"
      ],
      "text/plain": [
       "                                                                                                                                                                                                                           content  \\\n",
       "date                                                                                                                                                                                                                                 \n",
       "2021-02-19 15:14:02+00:00                                                                                                                                              Any one have any strong feelings about the drug Gabapentin?   \n",
       "2021-01-10 05:10:50+00:00  I’m annoyed as fuck I tried to do something funny on fb that actually mirrored my life. Bitches... I’m on fucking Xanax   I’m on gabapentin I now take 20 mg of Lexapro every morning I’m struggling...   \n",
       "2020-09-25 15:54:15+00:00  Hey friends.\\nSo little change or movement since yesterday.\\nStarted on Gabapentin for the week and ordered to rest for a few days.\\nGood news I think is, its not my leg, but my paw which has swol...   \n",
       "2019-07-16 09:54:48+00:00  I’m at the vets .. my neck is so painful I’m crying out every time I move ... good news I’ve lost lots of weight now only .. yes only 16.4 .. Vet given metacam, gabapentin and Pardale V. \\nEnjoy y...   \n",
       "2021-08-21 10:55:02+00:00  Eleven weeks post-chemo, and, thanks to pregabalin, this is the first day I've been free of neuropathic pain, and the first night I haven't needed codeine to get to sleep. Celebrating with a nice ...   \n",
       "2021-02-20 12:18:27+00:00  I really don't know why I have to bring this up, but my Gabapentin usage is for seizure prevention.\\n\\nDon't cop an attitude about a medication that's saving my life right now.\\n\\nAlready had to b...   \n",
       "2020-08-05 14:51:22+00:00                                                                                                                      Which drug do you think has the most off-label use and why did you pick gabapentin?   \n",
       "2019-07-19 20:34:29+00:00  Just met with the anesthesiologist prior to my surgery next week.  He said Tylenol and gabapentin would be used for pain control.\\nNo one is cutting me open and giving me freaking Tylenol for pain...   \n",
       "2020-06-10 09:03:23+00:00  Dr thinks I have sciatica, but slightly untypical symptoms. Huge pain under right bum, just off to the right. Sitting /pressure; crippling pain down to knee. If I’ve been sitting, getting up very ...   \n",
       "2021-03-31 21:22:21+00:00  My beautiful, sweet, amazing Slinky went lame on his right back leg about 4 hours ago. We’ve been dealing with it before posting. He’s on metacam and gabapentin and if no improvement will be in hi...   \n",
       "\n",
       "                           replyCount                   id  \n",
       "date                                                        \n",
       "2021-02-19 15:14:02+00:00        1538  1362782500964102150  \n",
       "2021-01-10 05:10:50+00:00         368  1348135189554155520  \n",
       "2020-09-25 15:54:15+00:00         218  1309521607640182785  \n",
       "2019-07-16 09:54:48+00:00         193  1151067651625684993  \n",
       "2021-08-21 10:55:02+00:00         183  1429034300519981063  \n",
       "2021-02-20 12:18:27+00:00         173  1363100703774793729  \n",
       "2020-08-05 14:51:22+00:00         147  1291024000857014273  \n",
       "2019-07-19 20:34:29+00:00         144  1152315797185822721  \n",
       "2020-06-10 09:03:23+00:00         135  1270642709041164288  \n",
       "2021-03-31 21:22:21+00:00         128  1377370706694995968  "
      ]
     },
     "metadata": {},
     "output_type": "display_data"
    }
   ],
   "source": [
    "display(df.sort_values(by=[\"replyCount\"], axis=0, ascending=False)[[\"content\",\"replyCount\", \"id\"]].head(10))"
   ]
  },
  {
   "cell_type": "markdown",
   "id": "c22fe359",
   "metadata": {},
   "source": [
    "- Unigrams:"
   ]
  },
  {
   "cell_type": "code",
   "execution_count": 27,
   "id": "5da086c4",
   "metadata": {},
   "outputs": [],
   "source": [
    "text = ''.join(clean_content for clean_content in df.clean_content)\n",
    "\n",
    "words = text.split()"
   ]
  },
  {
   "cell_type": "code",
   "execution_count": 28,
   "id": "ea2aafef",
   "metadata": {},
   "outputs": [
    {
     "data": {
      "text/plain": [
       "(gabapentin,)    60484\n",
       "(neurontin,)     41941\n",
       "(pregabalin,)    33398\n",
       "(pain,)          29906\n",
       "(drug,)          13156\n",
       "(take,)          12064\n",
       "(lyrica,)        11985\n",
       "(help,)           8893\n",
       "(like,)           8543\n",
       "(get,)            7992\n",
       "(day,)            7651\n",
       "(effect,)         7559\n",
       "(nerve,)          7512\n",
       "(med,)            7449\n",
       "(off,)            6644\n",
       "(work,)           6459\n",
       "(new,)            6455\n",
       "(generic,)        6441\n",
       "(also,)           5923\n",
       "(side,)           5728\n",
       "dtype: int64"
      ]
     },
     "execution_count": 28,
     "metadata": {},
     "output_type": "execute_result"
    }
   ],
   "source": [
    "unigrams = (pd.Series(nltk.ngrams(words, 1)).value_counts())[:20]\n",
    "\n",
    "unigrams"
   ]
  },
  {
   "cell_type": "code",
   "execution_count": 29,
   "id": "6948d9b0",
   "metadata": {},
   "outputs": [
    {
     "data": {
      "image/png": "[encoded data removed]",
      "text/plain": [
       "<Figure size 1152x576 with 1 Axes>"
      ]
     },
     "metadata": {},
     "output_type": "display_data"
    }
   ],
   "source": [
    "plt.figure(figsize=(16, 8))\n",
    "sns.barplot(x=unigrams.values, y=unigrams.index)\n",
    "\n",
    "plt.title('Unigrams Frequency')\n",
    "plt.show()"
   ]
  },
  {
   "cell_type": "markdown",
   "id": "dc3471d9",
   "metadata": {},
   "source": [
    "- Bigrams:"
   ]
  },
  {
   "cell_type": "code",
   "execution_count": 30,
   "id": "42e017d4",
   "metadata": {},
   "outputs": [
    {
     "data": {
      "text/plain": [
       "(side, effect)              5058\n",
       "(nerve, pain)               4508\n",
       "(gabapentin, pregabalin)    3032\n",
       "(neurontin, lyrica)         2698\n",
       "(generic, neurontin)        2666\n",
       "(lyrica, pregabalin)        2470\n",
       "(neuropathic, pain)         2420\n",
       "(take, gabapentin)          2386\n",
       "(300, mg)                   2344\n",
       "(mg, generic)               2122\n",
       "(brain, synapsis)           2023\n",
       "(death, sentence)           1984\n",
       "(new, brain)                1977\n",
       "(gabapentin, 300)           1971\n",
       "(lyrica, death)             1934\n",
       "(sentence, new)             1934\n",
       "(pregabalin, gabapentin)    1804\n",
       "(gabapentin, neurontin)     1541\n",
       "(pregabalin, lyrica)        1532\n",
       "dtype: int64"
      ]
     },
     "execution_count": 30,
     "metadata": {},
     "output_type": "execute_result"
    }
   ],
   "source": [
    "bigrams = (pd.Series(nltk.ngrams(words, 2)).value_counts())[:19]\n",
    "\n",
    "bigrams"
   ]
  },
  {
   "cell_type": "code",
   "execution_count": 31,
   "id": "f338e452",
   "metadata": {},
   "outputs": [
    {
     "data": {
      "image/png": "[encoded data removed]",
      "text/plain": [
       "<Figure size 1152x576 with 1 Axes>"
      ]
     },
     "metadata": {},
     "output_type": "display_data"
    }
   ],
   "source": [
    "plt.figure(figsize=(16, 8))\n",
    "sns.barplot(x=bigrams.values, y=bigrams.index)\n",
    "\n",
    "plt.title('Bigrams Frequency')\n",
    "plt.show()"
   ]
  },
  {
   "cell_type": "markdown",
   "id": "3c6c1cf8",
   "metadata": {},
   "source": [
    "- Trigrams"
   ]
  },
  {
   "cell_type": "code",
   "execution_count": 32,
   "id": "2fd6fd55",
   "metadata": {},
   "outputs": [
    {
     "data": {
      "text/plain": [
       "(new, brain, synapsis)               1962\n",
       "(gabapentin, 300, mg)                1945\n",
       "(death, sentence, new)               1934\n",
       "(lyrica, death, sentence)            1931\n",
       "(sentence, new, brain)               1930\n",
       "(neurontin, lyrica, death)           1929\n",
       "(300, mg, generic)                   1855\n",
       "(mg, generic, neurontin)             1854\n",
       "(neurontin, weight, loss)             830\n",
       "(synapsis, shocking, study)           625\n",
       "(brain, synapsis, shocking)           625\n",
       "(restless, leg, syndrome)             602\n",
       "(drug, gabapentin, pregabalin)        572\n",
       "(gabapentin, pregabalin, linked)      504\n",
       "(treatment, neuropathic, pain)        477\n",
       "(lyrica, pregabalin, online)          471\n",
       "(verdict, against, pfizer)            451\n",
       "(gabapentin, nerve, pain)             437\n",
       "(neurontin, neurontin, neurontin)     421\n",
       "(neurontin, combined, cymbalta)       416\n",
       "dtype: int64"
      ]
     },
     "execution_count": 32,
     "metadata": {},
     "output_type": "execute_result"
    }
   ],
   "source": [
    "trigrams = (pd.Series(nltk.ngrams(words, 3)).value_counts())[:20]\n",
    "\n",
    "trigrams"
   ]
  },
  {
   "cell_type": "code",
   "execution_count": 33,
   "id": "9ea6dee0",
   "metadata": {},
   "outputs": [
    {
     "data": {
      "image/png": "[encoded data removed]",
      "text/plain": [
       "<Figure size 1152x576 with 1 Axes>"
      ]
     },
     "metadata": {},
     "output_type": "display_data"
    }
   ],
   "source": [
    "plt.figure(figsize=(16, 8))\n",
    "sns.barplot(x=trigrams.values, y=trigrams.index)\n",
    "\n",
    "plt.title('Trigrams Frequency')\n",
    "plt.show()"
   ]
  },
  {
   "cell_type": "markdown",
   "id": "a80134db",
   "metadata": {},
   "source": [
    "- Hashtags Analysis:"
   ]
  },
  {
   "cell_type": "code",
   "execution_count": 34,
   "id": "54ec1646",
   "metadata": {},
   "outputs": [
    {
     "data": {
      "text/html": [
       "<div>\n",
       "<style scoped>\n",
       "    .dataframe tbody tr th:only-of-type {\n",
       "        vertical-align: middle;\n",
       "    }\n",
       "\n",
       "    .dataframe tbody tr th {\n",
       "        vertical-align: top;\n",
       "    }\n",
       "\n",
       "    .dataframe thead th {\n",
       "        text-align: right;\n",
       "    }\n",
       "</style>\n",
       "<table border=\"1\" class=\"dataframe\">\n",
       "  <thead>\n",
       "    <tr style=\"text-align: right;\">\n",
       "      <th></th>\n",
       "      <th>Hashtag</th>\n",
       "      <th>Count</th>\n",
       "    </tr>\n",
       "  </thead>\n",
       "  <tbody>\n",
       "    <tr>\n",
       "      <th>0</th>\n",
       "      <td>neurontin</td>\n",
       "      <td>4420</td>\n",
       "    </tr>\n",
       "    <tr>\n",
       "      <th>1</th>\n",
       "      <td>pregabalin</td>\n",
       "      <td>2334</td>\n",
       "    </tr>\n",
       "    <tr>\n",
       "      <th>2</th>\n",
       "      <td>gabapentin</td>\n",
       "      <td>1712</td>\n",
       "    </tr>\n",
       "    <tr>\n",
       "      <th>3</th>\n",
       "      <td>lyrica</td>\n",
       "      <td>734</td>\n",
       "    </tr>\n",
       "    <tr>\n",
       "      <th>4</th>\n",
       "      <td>chronicpain</td>\n",
       "      <td>683</td>\n",
       "    </tr>\n",
       "    <tr>\n",
       "      <th>5</th>\n",
       "      <td>fibromyalgia</td>\n",
       "      <td>647</td>\n",
       "    </tr>\n",
       "    <tr>\n",
       "      <th>6</th>\n",
       "      <td>pain</td>\n",
       "      <td>564</td>\n",
       "    </tr>\n",
       "    <tr>\n",
       "      <th>7</th>\n",
       "      <td>ebook</td>\n",
       "      <td>483</td>\n",
       "    </tr>\n",
       "    <tr>\n",
       "      <th>8</th>\n",
       "      <td>health</td>\n",
       "      <td>375</td>\n",
       "    </tr>\n",
       "    <tr>\n",
       "      <th>9</th>\n",
       "      <td>fibro</td>\n",
       "      <td>369</td>\n",
       "    </tr>\n",
       "    <tr>\n",
       "      <th>10</th>\n",
       "      <td>pharma</td>\n",
       "      <td>362</td>\n",
       "    </tr>\n",
       "    <tr>\n",
       "      <th>11</th>\n",
       "      <td>opioids</td>\n",
       "      <td>313</td>\n",
       "    </tr>\n",
       "    <tr>\n",
       "      <th>12</th>\n",
       "      <td>viagra</td>\n",
       "      <td>310</td>\n",
       "    </tr>\n",
       "    <tr>\n",
       "      <th>13</th>\n",
       "      <td>spoonie</td>\n",
       "      <td>297</td>\n",
       "    </tr>\n",
       "    <tr>\n",
       "      <th>14</th>\n",
       "      <td>gabapentinoids</td>\n",
       "      <td>237</td>\n",
       "    </tr>\n",
       "    <tr>\n",
       "      <th>15</th>\n",
       "      <td>pfizer</td>\n",
       "      <td>182</td>\n",
       "    </tr>\n",
       "    <tr>\n",
       "      <th>16</th>\n",
       "      <td>fda</td>\n",
       "      <td>176</td>\n",
       "    </tr>\n",
       "    <tr>\n",
       "      <th>17</th>\n",
       "      <td>anxiety</td>\n",
       "      <td>176</td>\n",
       "    </tr>\n",
       "    <tr>\n",
       "      <th>18</th>\n",
       "      <td>drugs</td>\n",
       "      <td>172</td>\n",
       "    </tr>\n",
       "    <tr>\n",
       "      <th>19</th>\n",
       "      <td>pharmacy</td>\n",
       "      <td>163</td>\n",
       "    </tr>\n",
       "  </tbody>\n",
       "</table>\n",
       "</div>"
      ],
      "text/plain": [
       "           Hashtag  Count\n",
       "0        neurontin   4420\n",
       "1       pregabalin   2334\n",
       "2       gabapentin   1712\n",
       "3           lyrica    734\n",
       "4      chronicpain    683\n",
       "5     fibromyalgia    647\n",
       "6             pain    564\n",
       "7            ebook    483\n",
       "8           health    375\n",
       "9            fibro    369\n",
       "10          pharma    362\n",
       "11         opioids    313\n",
       "12          viagra    310\n",
       "13         spoonie    297\n",
       "14  gabapentinoids    237\n",
       "15          pfizer    182\n",
       "16             fda    176\n",
       "17         anxiety    176\n",
       "18           drugs    172\n",
       "19        pharmacy    163"
      ]
     },
     "execution_count": 34,
     "metadata": {},
     "output_type": "execute_result"
    }
   ],
   "source": [
    "hashtags = pd.read_csv('hashtags.csv')\n",
    "\n",
    "hashtags = hashtags.drop(['Unnamed: 0'], axis = 1)\n",
    "\n",
    "hashtags.head(20)"
   ]
  },
  {
   "cell_type": "code",
   "execution_count": 35,
   "id": "0ceb4df7",
   "metadata": {},
   "outputs": [
    {
     "data": {
      "image/png": "[encoded data removed]",
      "text/plain": [
       "<Figure size 1152x576 with 1 Axes>"
      ]
     },
     "metadata": {},
     "output_type": "display_data"
    }
   ],
   "source": [
    "hashtags = hashtags.head(20)\n",
    "\n",
    "plt.figure(figsize=(16, 8))\n",
    "sns.barplot(x='Count', y='Hashtag', data=hashtags)\n",
    "\n",
    "plt.title('Hashtags Frequency')\n",
    "plt.show()"
   ]
  },
  {
   "cell_type": "markdown",
   "id": "c680b0c0",
   "metadata": {},
   "source": [
    "<h2>CLASSIFICATION OF TWEETS USING THE MODEL TRAINED IN THE SENTIMENT140 DATASET</h2>\n",
    "\n",
    "We load the the vectoriser and the model and use a function to transform the processsed text and make predictions."
   ]
  },
  {
   "cell_type": "code",
   "execution_count": 36,
   "id": "b0acf043",
   "metadata": {},
   "outputs": [],
   "source": [
    "import pickle\n",
    "\n",
    "file = open('vectoriser-ngram-(1,2).pickle', 'rb')\n",
    "vectoriser = pickle.load(file)\n",
    "file.close()\n",
    "\n",
    "# Load the LR Model.\n",
    "file = open('Sentiment-LR.pickle', 'rb')\n",
    "LRmodel = pickle.load(file)\n",
    "file.close()\n"
   ]
  },
  {
   "cell_type": "code",
   "execution_count": 37,
   "id": "ddb9f6c5",
   "metadata": {},
   "outputs": [],
   "source": [
    "def predict(vectoriser, model, text):\n",
    "    # Predict the sentiment\n",
    "    textdata = vectoriser.transform(text)\n",
    "    sentiment = model.predict(textdata)\n",
    "    return sentiment\n"
   ]
  },
  {
   "cell_type": "code",
   "execution_count": 38,
   "id": "e1dad678",
   "metadata": {},
   "outputs": [
    {
     "data": {
      "text/plain": [
       "array([1, 0, 0, ..., 1, 0, 0])"
      ]
     },
     "execution_count": 38,
     "metadata": {},
     "output_type": "execute_result"
    }
   ],
   "source": [
    "lr_results = predict(vectoriser, LRmodel, processedtext)\n",
    "\n",
    "lr_results"
   ]
  },
  {
   "cell_type": "markdown",
   "id": "0c8a6b7a",
   "metadata": {},
   "source": [
    "We add the predictions to the dataset to compare the three methods:"
   ]
  },
  {
   "cell_type": "code",
   "execution_count": 39,
   "id": "32316550",
   "metadata": {},
   "outputs": [],
   "source": [
    "df['lr_sentiment'] = lr_results"
   ]
  },
  {
   "cell_type": "code",
   "execution_count": 40,
   "id": "92fce594",
   "metadata": {},
   "outputs": [
    {
     "data": {
      "text/html": [
       "<div>\n",
       "<style scoped>\n",
       "    .dataframe tbody tr th:only-of-type {\n",
       "        vertical-align: middle;\n",
       "    }\n",
       "\n",
       "    .dataframe tbody tr th {\n",
       "        vertical-align: top;\n",
       "    }\n",
       "\n",
       "    .dataframe thead th {\n",
       "        text-align: right;\n",
       "    }\n",
       "</style>\n",
       "<table border=\"1\" class=\"dataframe\">\n",
       "  <thead>\n",
       "    <tr style=\"text-align: right;\">\n",
       "      <th></th>\n",
       "      <th>content</th>\n",
       "      <th>id</th>\n",
       "      <th>replyCount</th>\n",
       "      <th>retweetCount</th>\n",
       "      <th>likeCount</th>\n",
       "      <th>quoteCount</th>\n",
       "      <th>conversationId</th>\n",
       "      <th>sentiment</th>\n",
       "      <th>label</th>\n",
       "      <th>score</th>\n",
       "      <th>af_scores</th>\n",
       "      <th>af_sentiment</th>\n",
       "      <th>pre_clean_len</th>\n",
       "      <th>clean_content</th>\n",
       "      <th>clean_len</th>\n",
       "      <th>lr_sentiment</th>\n",
       "    </tr>\n",
       "    <tr>\n",
       "      <th>date</th>\n",
       "      <th></th>\n",
       "      <th></th>\n",
       "      <th></th>\n",
       "      <th></th>\n",
       "      <th></th>\n",
       "      <th></th>\n",
       "      <th></th>\n",
       "      <th></th>\n",
       "      <th></th>\n",
       "      <th></th>\n",
       "      <th></th>\n",
       "      <th></th>\n",
       "      <th></th>\n",
       "      <th></th>\n",
       "      <th></th>\n",
       "      <th></th>\n",
       "    </tr>\n",
       "  </thead>\n",
       "  <tbody>\n",
       "    <tr>\n",
       "      <th>2007-04-15 07:40:17+00:00</th>\n",
       "      <td>Up till B's meds ~3:30am. Already having exhaustion-linked auditory hallucinations &amp; f*ed-up thinking...time for more Neurontin.</td>\n",
       "      <td>28590161</td>\n",
       "      <td>0</td>\n",
       "      <td>0</td>\n",
       "      <td>0</td>\n",
       "      <td>0</td>\n",
       "      <td>28590161</td>\n",
       "      <td>[{'label': 'NEGATIVE', 'score': 0.9958293437957764}]</td>\n",
       "      <td>NEGATIVE</td>\n",
       "      <td>0.995829</td>\n",
       "      <td>0.0</td>\n",
       "      <td>neutral</td>\n",
       "      <td>128</td>\n",
       "      <td>till med 30am already exhaustion linked auditory hallucination ed thinking time neurontin</td>\n",
       "      <td>90</td>\n",
       "      <td>1</td>\n",
       "    </tr>\n",
       "    <tr>\n",
       "      <th>2007-10-15 12:34:14+00:00</th>\n",
       "      <td>medinews: Pregabalin Decreases Pain, Expedites Movement In Knee Replacement Patients http://tinyurl.com/23aocu</td>\n",
       "      <td>337148332</td>\n",
       "      <td>0</td>\n",
       "      <td>0</td>\n",
       "      <td>0</td>\n",
       "      <td>0</td>\n",
       "      <td>337148332</td>\n",
       "      <td>[{'label': 'NEGATIVE', 'score': 0.9804479479789734}]</td>\n",
       "      <td>NEGATIVE</td>\n",
       "      <td>0.980448</td>\n",
       "      <td>-2.0</td>\n",
       "      <td>negative</td>\n",
       "      <td>110</td>\n",
       "      <td>medinews pregabalin decrease pain expedites movement knee replacement patient</td>\n",
       "      <td>78</td>\n",
       "      <td>0</td>\n",
       "    </tr>\n",
       "    <tr>\n",
       "      <th>2007-10-30 23:33:59+00:00</th>\n",
       "      <td>/fwump. how long is the damn neurontin supposed to take to work anyway? tired, grumpy, in pain. feh.</td>\n",
       "      <td>376264212</td>\n",
       "      <td>0</td>\n",
       "      <td>0</td>\n",
       "      <td>0</td>\n",
       "      <td>0</td>\n",
       "      <td>376264212</td>\n",
       "      <td>[{'label': 'NEGATIVE', 'score': 0.999584972858429}]</td>\n",
       "      <td>NEGATIVE</td>\n",
       "      <td>0.999585</td>\n",
       "      <td>-6.0</td>\n",
       "      <td>negative</td>\n",
       "      <td>100</td>\n",
       "      <td>fwump long damn neurontin supposed take work anyway tired grumpy pain feh</td>\n",
       "      <td>74</td>\n",
       "      <td>0</td>\n",
       "    </tr>\n",
       "    <tr>\n",
       "      <th>2007-11-12 17:32:53+00:00</th>\n",
       "      <td>appears that the neurontin is kicking in.  woo!  go go gadget no pain!</td>\n",
       "      <td>408691052</td>\n",
       "      <td>0</td>\n",
       "      <td>0</td>\n",
       "      <td>0</td>\n",
       "      <td>0</td>\n",
       "      <td>408691052</td>\n",
       "      <td>[{'label': 'POSITIVE', 'score': 0.9734091758728027}]</td>\n",
       "      <td>POSITIVE</td>\n",
       "      <td>0.973409</td>\n",
       "      <td>0.0</td>\n",
       "      <td>neutral</td>\n",
       "      <td>70</td>\n",
       "      <td>appears neurontin kicking woo go go gadget pain</td>\n",
       "      <td>48</td>\n",
       "      <td>1</td>\n",
       "    </tr>\n",
       "    <tr>\n",
       "      <th>2007-11-20 21:01:09+00:00</th>\n",
       "      <td>oh boy, my first neurontin side effect: wooziness!  awesomesauce with fries.</td>\n",
       "      <td>430154292</td>\n",
       "      <td>0</td>\n",
       "      <td>0</td>\n",
       "      <td>0</td>\n",
       "      <td>0</td>\n",
       "      <td>430154292</td>\n",
       "      <td>[{'label': 'POSITIVE', 'score': 0.8460352420806885}]</td>\n",
       "      <td>POSITIVE</td>\n",
       "      <td>0.846035</td>\n",
       "      <td>0.0</td>\n",
       "      <td>neutral</td>\n",
       "      <td>76</td>\n",
       "      <td>oh boy first neurontin side effect wooziness awesomesauce fry</td>\n",
       "      <td>62</td>\n",
       "      <td>1</td>\n",
       "    </tr>\n",
       "  </tbody>\n",
       "</table>\n",
       "</div>"
      ],
      "text/plain": [
       "                                                                                                                                                    content  \\\n",
       "date                                                                                                                                                          \n",
       "2007-04-15 07:40:17+00:00  Up till B's meds ~3:30am. Already having exhaustion-linked auditory hallucinations & f*ed-up thinking...time for more Neurontin.   \n",
       "2007-10-15 12:34:14+00:00                    medinews: Pregabalin Decreases Pain, Expedites Movement In Knee Replacement Patients http://tinyurl.com/23aocu   \n",
       "2007-10-30 23:33:59+00:00                              /fwump. how long is the damn neurontin supposed to take to work anyway? tired, grumpy, in pain. feh.   \n",
       "2007-11-12 17:32:53+00:00                                                            appears that the neurontin is kicking in.  woo!  go go gadget no pain!   \n",
       "2007-11-20 21:01:09+00:00                                                      oh boy, my first neurontin side effect: wooziness!  awesomesauce with fries.   \n",
       "\n",
       "                                  id  replyCount  retweetCount  likeCount  \\\n",
       "date                                                                        \n",
       "2007-04-15 07:40:17+00:00   28590161           0             0          0   \n",
       "2007-10-15 12:34:14+00:00  337148332           0             0          0   \n",
       "2007-10-30 23:33:59+00:00  376264212           0             0          0   \n",
       "2007-11-12 17:32:53+00:00  408691052           0             0          0   \n",
       "2007-11-20 21:01:09+00:00  430154292           0             0          0   \n",
       "\n",
       "                           quoteCount  conversationId  \\\n",
       "date                                                    \n",
       "2007-04-15 07:40:17+00:00           0        28590161   \n",
       "2007-10-15 12:34:14+00:00           0       337148332   \n",
       "2007-10-30 23:33:59+00:00           0       376264212   \n",
       "2007-11-12 17:32:53+00:00           0       408691052   \n",
       "2007-11-20 21:01:09+00:00           0       430154292   \n",
       "\n",
       "                                                                      sentiment  \\\n",
       "date                                                                              \n",
       "2007-04-15 07:40:17+00:00  [{'label': 'NEGATIVE', 'score': 0.9958293437957764}]   \n",
       "2007-10-15 12:34:14+00:00  [{'label': 'NEGATIVE', 'score': 0.9804479479789734}]   \n",
       "2007-10-30 23:33:59+00:00   [{'label': 'NEGATIVE', 'score': 0.999584972858429}]   \n",
       "2007-11-12 17:32:53+00:00  [{'label': 'POSITIVE', 'score': 0.9734091758728027}]   \n",
       "2007-11-20 21:01:09+00:00  [{'label': 'POSITIVE', 'score': 0.8460352420806885}]   \n",
       "\n",
       "                              label     score  af_scores af_sentiment  \\\n",
       "date                                                                    \n",
       "2007-04-15 07:40:17+00:00  NEGATIVE  0.995829        0.0      neutral   \n",
       "2007-10-15 12:34:14+00:00  NEGATIVE  0.980448       -2.0     negative   \n",
       "2007-10-30 23:33:59+00:00  NEGATIVE  0.999585       -6.0     negative   \n",
       "2007-11-12 17:32:53+00:00  POSITIVE  0.973409        0.0      neutral   \n",
       "2007-11-20 21:01:09+00:00  POSITIVE  0.846035        0.0      neutral   \n",
       "\n",
       "                           pre_clean_len  \\\n",
       "date                                       \n",
       "2007-04-15 07:40:17+00:00            128   \n",
       "2007-10-15 12:34:14+00:00            110   \n",
       "2007-10-30 23:33:59+00:00            100   \n",
       "2007-11-12 17:32:53+00:00             70   \n",
       "2007-11-20 21:01:09+00:00             76   \n",
       "\n",
       "                                                                                                        clean_content  \\\n",
       "date                                                                                                                    \n",
       "2007-04-15 07:40:17+00:00  till med 30am already exhaustion linked auditory hallucination ed thinking time neurontin    \n",
       "2007-10-15 12:34:14+00:00              medinews pregabalin decrease pain expedites movement knee replacement patient    \n",
       "2007-10-30 23:33:59+00:00                  fwump long damn neurontin supposed take work anyway tired grumpy pain feh    \n",
       "2007-11-12 17:32:53+00:00                                            appears neurontin kicking woo go go gadget pain    \n",
       "2007-11-20 21:01:09+00:00                              oh boy first neurontin side effect wooziness awesomesauce fry    \n",
       "\n",
       "                           clean_len  lr_sentiment  \n",
       "date                                                \n",
       "2007-04-15 07:40:17+00:00         90             1  \n",
       "2007-10-15 12:34:14+00:00         78             0  \n",
       "2007-10-30 23:33:59+00:00         74             0  \n",
       "2007-11-12 17:32:53+00:00         48             1  \n",
       "2007-11-20 21:01:09+00:00         62             1  "
      ]
     },
     "execution_count": 40,
     "metadata": {},
     "output_type": "execute_result"
    }
   ],
   "source": [
    "df.head()"
   ]
  },
  {
   "cell_type": "code",
   "execution_count": 41,
   "id": "2b354b6e",
   "metadata": {},
   "outputs": [
    {
     "name": "stdout",
     "output_type": "stream",
     "text": [
      "<class 'pandas.core.frame.DataFrame'>\n",
      "DatetimeIndex: 120486 entries, 2007-04-15 07:40:17+00:00 to 2021-08-28 01:45:15+00:00\n",
      "Data columns (total 16 columns):\n",
      " #   Column          Non-Null Count   Dtype  \n",
      "---  ------          --------------   -----  \n",
      " 0   content         120486 non-null  object \n",
      " 1   id              120486 non-null  int64  \n",
      " 2   replyCount      120486 non-null  int64  \n",
      " 3   retweetCount    120486 non-null  int64  \n",
      " 4   likeCount       120486 non-null  int64  \n",
      " 5   quoteCount      120486 non-null  int64  \n",
      " 6   conversationId  120486 non-null  int64  \n",
      " 7   sentiment       120486 non-null  object \n",
      " 8   label           120486 non-null  object \n",
      " 9   score           120486 non-null  float64\n",
      " 10  af_scores       120486 non-null  float64\n",
      " 11  af_sentiment    120486 non-null  object \n",
      " 12  pre_clean_len   120486 non-null  int64  \n",
      " 13  clean_content   120486 non-null  object \n",
      " 14  clean_len       120486 non-null  int64  \n",
      " 15  lr_sentiment    120486 non-null  int32  \n",
      "dtypes: float64(2), int32(1), int64(8), object(5)\n",
      "memory usage: 15.2+ MB\n"
     ]
    }
   ],
   "source": [
    "df.info()"
   ]
  },
  {
   "cell_type": "code",
   "execution_count": 42,
   "id": "c46a1074",
   "metadata": {},
   "outputs": [
    {
     "data": {
      "text/html": [
       "<div>\n",
       "<style scoped>\n",
       "    .dataframe tbody tr th:only-of-type {\n",
       "        vertical-align: middle;\n",
       "    }\n",
       "\n",
       "    .dataframe tbody tr th {\n",
       "        vertical-align: top;\n",
       "    }\n",
       "\n",
       "    .dataframe thead th {\n",
       "        text-align: right;\n",
       "    }\n",
       "</style>\n",
       "<table border=\"1\" class=\"dataframe\">\n",
       "  <thead>\n",
       "    <tr style=\"text-align: right;\">\n",
       "      <th></th>\n",
       "      <th>content</th>\n",
       "      <th>label</th>\n",
       "      <th>af_sentiment</th>\n",
       "      <th>lr_sentiment</th>\n",
       "    </tr>\n",
       "    <tr>\n",
       "      <th>date</th>\n",
       "      <th></th>\n",
       "      <th></th>\n",
       "      <th></th>\n",
       "      <th></th>\n",
       "    </tr>\n",
       "  </thead>\n",
       "  <tbody>\n",
       "    <tr>\n",
       "      <th>2007-04-15 07:40:17+00:00</th>\n",
       "      <td>Up till B's meds ~3:30am. Already having exhaustion-linked auditory hallucinations &amp; f*ed-up thinking...time for more Neurontin.</td>\n",
       "      <td>negative</td>\n",
       "      <td>neutral</td>\n",
       "      <td>positive</td>\n",
       "    </tr>\n",
       "    <tr>\n",
       "      <th>2007-10-15 12:34:14+00:00</th>\n",
       "      <td>medinews: Pregabalin Decreases Pain, Expedites Movement In Knee Replacement Patients http://tinyurl.com/23aocu</td>\n",
       "      <td>negative</td>\n",
       "      <td>negative</td>\n",
       "      <td>negative</td>\n",
       "    </tr>\n",
       "    <tr>\n",
       "      <th>2007-10-30 23:33:59+00:00</th>\n",
       "      <td>/fwump. how long is the damn neurontin supposed to take to work anyway? tired, grumpy, in pain. feh.</td>\n",
       "      <td>negative</td>\n",
       "      <td>negative</td>\n",
       "      <td>negative</td>\n",
       "    </tr>\n",
       "    <tr>\n",
       "      <th>2007-11-12 17:32:53+00:00</th>\n",
       "      <td>appears that the neurontin is kicking in.  woo!  go go gadget no pain!</td>\n",
       "      <td>positive</td>\n",
       "      <td>neutral</td>\n",
       "      <td>positive</td>\n",
       "    </tr>\n",
       "    <tr>\n",
       "      <th>2007-11-20 21:01:09+00:00</th>\n",
       "      <td>oh boy, my first neurontin side effect: wooziness!  awesomesauce with fries.</td>\n",
       "      <td>positive</td>\n",
       "      <td>neutral</td>\n",
       "      <td>positive</td>\n",
       "    </tr>\n",
       "    <tr>\n",
       "      <th>2007-12-28 23:04:18+00:00</th>\n",
       "      <td>joints aching. nts: never, ever skip neurontin EVAR. ow. fuck.</td>\n",
       "      <td>negative</td>\n",
       "      <td>negative</td>\n",
       "      <td>negative</td>\n",
       "    </tr>\n",
       "    <tr>\n",
       "      <th>2008-01-15 16:20:06+00:00</th>\n",
       "      <td>morning: feel kind of spacey, but not too bad. maybe some of the weird headspaces I've been in were neurontin? possible...</td>\n",
       "      <td>negative</td>\n",
       "      <td>negative</td>\n",
       "      <td>negative</td>\n",
       "    </tr>\n",
       "    <tr>\n",
       "      <th>2008-01-15 17:57:23+00:00</th>\n",
       "      <td>whee, neurontin fog + vague stumbling!  ROCK ON! I &amp;lt;3 side effects. /eyeroll off to the bank.</td>\n",
       "      <td>negative</td>\n",
       "      <td>negative</td>\n",
       "      <td>positive</td>\n",
       "    </tr>\n",
       "    <tr>\n",
       "      <th>2008-01-15 18:25:22+00:00</th>\n",
       "      <td>Whee, neurontin=dizzy &amp; handshakes! Fun?</td>\n",
       "      <td>positive</td>\n",
       "      <td>positive</td>\n",
       "      <td>positive</td>\n",
       "    </tr>\n",
       "    <tr>\n",
       "      <th>2008-01-15 19:20:19+00:00</th>\n",
       "      <td>Neurontin side effects so far: morning brainfoggery, dizziness/vertigo, lack of coordination/balance. Hand tremors?  Possibly.</td>\n",
       "      <td>negative</td>\n",
       "      <td>negative</td>\n",
       "      <td>negative</td>\n",
       "    </tr>\n",
       "  </tbody>\n",
       "</table>\n",
       "</div>"
      ],
      "text/plain": [
       "                                                                                                                                                    content  \\\n",
       "date                                                                                                                                                          \n",
       "2007-04-15 07:40:17+00:00  Up till B's meds ~3:30am. Already having exhaustion-linked auditory hallucinations & f*ed-up thinking...time for more Neurontin.   \n",
       "2007-10-15 12:34:14+00:00                    medinews: Pregabalin Decreases Pain, Expedites Movement In Knee Replacement Patients http://tinyurl.com/23aocu   \n",
       "2007-10-30 23:33:59+00:00                              /fwump. how long is the damn neurontin supposed to take to work anyway? tired, grumpy, in pain. feh.   \n",
       "2007-11-12 17:32:53+00:00                                                            appears that the neurontin is kicking in.  woo!  go go gadget no pain!   \n",
       "2007-11-20 21:01:09+00:00                                                      oh boy, my first neurontin side effect: wooziness!  awesomesauce with fries.   \n",
       "2007-12-28 23:04:18+00:00                                                                    joints aching. nts: never, ever skip neurontin EVAR. ow. fuck.   \n",
       "2008-01-15 16:20:06+00:00        morning: feel kind of spacey, but not too bad. maybe some of the weird headspaces I've been in were neurontin? possible...   \n",
       "2008-01-15 17:57:23+00:00                                  whee, neurontin fog + vague stumbling!  ROCK ON! I &lt;3 side effects. /eyeroll off to the bank.   \n",
       "2008-01-15 18:25:22+00:00                                                                                          Whee, neurontin=dizzy & handshakes! Fun?   \n",
       "2008-01-15 19:20:19+00:00    Neurontin side effects so far: morning brainfoggery, dizziness/vertigo, lack of coordination/balance. Hand tremors?  Possibly.   \n",
       "\n",
       "                              label af_sentiment lr_sentiment  \n",
       "date                                                           \n",
       "2007-04-15 07:40:17+00:00  negative      neutral     positive  \n",
       "2007-10-15 12:34:14+00:00  negative     negative     negative  \n",
       "2007-10-30 23:33:59+00:00  negative     negative     negative  \n",
       "2007-11-12 17:32:53+00:00  positive      neutral     positive  \n",
       "2007-11-20 21:01:09+00:00  positive      neutral     positive  \n",
       "2007-12-28 23:04:18+00:00  negative     negative     negative  \n",
       "2008-01-15 16:20:06+00:00  negative     negative     negative  \n",
       "2008-01-15 17:57:23+00:00  negative     negative     positive  \n",
       "2008-01-15 18:25:22+00:00  positive     positive     positive  \n",
       "2008-01-15 19:20:19+00:00  negative     negative     negative  "
      ]
     },
     "execution_count": 42,
     "metadata": {},
     "output_type": "execute_result"
    }
   ],
   "source": [
    "df['label'] = df['label'].str.lower()\n",
    "\n",
    "df = df.replace([0,1], [\"negative\",\"positive\"])\n",
    "\n",
    "df[['content', 'label', 'af_sentiment', 'lr_sentiment']].head(10)"
   ]
  },
  {
   "cell_type": "code",
   "execution_count": 43,
   "id": "3cdf2bd9",
   "metadata": {},
   "outputs": [
    {
     "data": {
      "image/png": "[encoded data removed]",
      "text/plain": [
       "<Figure size 1080x360 with 3 Axes>"
      ]
     },
     "metadata": {},
     "output_type": "display_data"
    }
   ],
   "source": [
    "fig,(ax1,ax2, ax3)=plt.subplots(1,3,figsize=(15,5))\n",
    "sns.countplot(x=df[\"label\"],ax = ax1).set(title = \"Transformers\")\n",
    "sns.countplot(x=df[\"af_sentiment\"], order=['negative', 'positive', 'neutral'],ax = ax2).set(title = \"Afinn\")\n",
    "sns.countplot(x=df[\"lr_sentiment\"],order=['negative', 'positive'],ax = ax3).set(title = \"Logistic Regression\")\n",
    "plt.show()"
   ]
  },
  {
   "cell_type": "code",
   "execution_count": 44,
   "id": "2011fb26",
   "metadata": {},
   "outputs": [
    {
     "data": {
      "text/plain": [
       "1    58348\n",
       "3    46333\n",
       "0    15805\n",
       "Name: consensus, dtype: int64"
      ]
     },
     "execution_count": 44,
     "metadata": {},
     "output_type": "execute_result"
    }
   ],
   "source": [
    "def consensus(row):\n",
    "    count = 0\n",
    "    count += row['label']==row['af_sentiment']\n",
    "    count += row['label']==row['lr_sentiment']\n",
    "    count += row['af_sentiment']==row['lr_sentiment']\n",
    "\n",
    "    return count\n",
    "\n",
    "df['consensus'] = df.apply(lambda row: consensus(row), axis=1)\n",
    "\n",
    "df['consensus'].value_counts()"
   ]
  },
  {
   "cell_type": "code",
   "execution_count": 45,
   "id": "ecc0909e",
   "metadata": {},
   "outputs": [],
   "source": [
    "all_three = df[df['consensus'] == 3]"
   ]
  },
  {
   "cell_type": "code",
   "execution_count": 46,
   "id": "2caf4e02",
   "metadata": {},
   "outputs": [
    {
     "data": {
      "image/png": "[encoded data removed]",
      "text/plain": [
       "<Figure size 432x288 with 1 Axes>"
      ]
     },
     "metadata": {},
     "output_type": "display_data"
    }
   ],
   "source": [
    "sns.countplot(x=all_three[\"label\"])\n",
    "plt.title(\"Label Counts\")\n",
    "plt.show()"
   ]
  },
  {
   "cell_type": "code",
   "execution_count": null,
   "id": "92001dea",
   "metadata": {},
   "outputs": [],
   "source": []
  }
 ],
 "metadata": {
  "kernelspec": {
   "display_name": "Python 3 (ipykernel)",
   "language": "python",
   "name": "python3"
  },
  "language_info": {
   "codemirror_mode": {
    "name": "ipython",
    "version": 3
   },
   "file_extension": ".py",
   "mimetype": "text/x-python",
   "name": "python",
   "nbconvert_exporter": "python",
   "pygments_lexer": "ipython3",
   "version": "3.8.12"
  }
 },
 "nbformat": 4,
 "nbformat_minor": 5
}
